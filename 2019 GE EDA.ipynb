{
 "cells": [
  {
   "cell_type": "markdown",
   "id": "9d3c4c60",
   "metadata": {},
   "source": [
    "# 1. Problem Statement"
   ]
  },
  {
   "cell_type": "markdown",
   "id": "0fb0821f",
   "metadata": {},
   "source": [
    "<p>The 2019 Indian general election was held in seven phases from 11 April to 19 May 2019 to elect the members of the 17th Lok Sabha.</p>\n",
    "<p>The Bharatiya Janata Party (BJP) won a landslide victory, winning 303 seats and forming the government.The BJP's alliance partners won 50 seats, giving the NDA a total of 353 seats.</p>\n",
    "<p>The Indian National Congress (INC) won 52 seats, its lowest number of seats since 1984.</p>\n",
    "<p>Our task is to analyze the results and gain helpful insights from it</p>"
   ]
  },
  {
   "cell_type": "markdown",
   "id": "3bf651c0",
   "metadata": {},
   "source": [
    "these libraries will help us in analyzing our data. The 4 libraries below are the most commonly used. However, we will import\n",
    "other libraries later if need arises"
   ]
  },
  {
   "cell_type": "markdown",
   "id": "4de24f5b",
   "metadata": {},
   "source": [
    "# 2. Gathering the Data"
   ]
  },
  {
   "cell_type": "markdown",
   "id": "78862f0f",
   "metadata": {},
   "source": [
    "## Importing the Dependencies"
   ]
  },
  {
   "cell_type": "code",
   "execution_count": 524,
   "id": "08c08377",
   "metadata": {},
   "outputs": [],
   "source": [
    "import pandas as pd\n",
    "import numpy as np\n",
    "import matplotlib.pyplot as plt\n",
    "import seaborn as sns\n",
    "plt.rcParams['figure.figsize'] = (14,6)\n",
    "%matplotlib inline"
   ]
  },
  {
   "cell_type": "markdown",
   "id": "373b133a",
   "metadata": {},
   "source": [
    "## Loading the Dataset"
   ]
  },
  {
   "cell_type": "markdown",
   "id": "23829cb2",
   "metadata": {},
   "source": [
    "Citation\n",
    "<p>Data: “TCPD Individual Incumbency Dataset, 1962-current”. Trivedi Centre for Political Data, Ashoka University.<p>\n",
    "<p>Info about the variables available at <a href = 'chrome-extension://efaidnbmnnnibpcajpcglclefindmkaj/https://lokdhaba.ashoka.edu.in/static/media/2022Feb12LokDhabaCodebook.21040cf7.pdf'>this</a> link</p>"
   ]
  },
  {
   "cell_type": "code",
   "execution_count": 564,
   "id": "f77a6eff",
   "metadata": {},
   "outputs": [
    {
     "name": "stdout",
     "output_type": "stream",
     "text": [
      "Data Loaded Succesfully\n"
     ]
    },
    {
     "name": "stderr",
     "output_type": "stream",
     "text": [
      "C:\\Users\\Apoorva Jha\\AppData\\Local\\Temp\\ipykernel_18784\\536651462.py:1: DtypeWarning: Columns (17,36,37,38,39,40,41,42,43) have mixed types. Specify dtype option on import or set low_memory=False.\n",
      "  df = pd.read_csv('All_States_GE.csv')\n"
     ]
    }
   ],
   "source": [
    "df = pd.read_csv('All_States_GE.csv')\n",
    "print(\"Data Loaded Succesfully\")"
   ]
  },
  {
   "cell_type": "markdown",
   "id": "c39f9f57",
   "metadata": {},
   "source": [
    "## Preliminary Examination of Given Data"
   ]
  },
  {
   "cell_type": "code",
   "execution_count": 302,
   "id": "b3f98be0",
   "metadata": {},
   "outputs": [
    {
     "data": {
      "text/html": [
       "<div>\n",
       "<style scoped>\n",
       "    .dataframe tbody tr th:only-of-type {\n",
       "        vertical-align: middle;\n",
       "    }\n",
       "\n",
       "    .dataframe tbody tr th {\n",
       "        vertical-align: top;\n",
       "    }\n",
       "\n",
       "    .dataframe thead th {\n",
       "        text-align: right;\n",
       "    }\n",
       "</style>\n",
       "<table border=\"1\" class=\"dataframe\">\n",
       "  <thead>\n",
       "    <tr style=\"text-align: right;\">\n",
       "      <th></th>\n",
       "      <th>State_Name</th>\n",
       "      <th>Assembly_No</th>\n",
       "      <th>Constituency_No</th>\n",
       "      <th>Year</th>\n",
       "      <th>month</th>\n",
       "      <th>Poll_No</th>\n",
       "      <th>DelimID</th>\n",
       "      <th>Position</th>\n",
       "      <th>Candidate</th>\n",
       "      <th>Sex</th>\n",
       "      <th>...</th>\n",
       "      <th>No_Terms</th>\n",
       "      <th>Turncoat</th>\n",
       "      <th>Incumbent</th>\n",
       "      <th>Recontest</th>\n",
       "      <th>MyNeta_education</th>\n",
       "      <th>TCPD_Prof_Main</th>\n",
       "      <th>TCPD_Prof_Main_Desc</th>\n",
       "      <th>TCPD_Prof_Second</th>\n",
       "      <th>TCPD_Prof_Second_Desc</th>\n",
       "      <th>Election_Type</th>\n",
       "    </tr>\n",
       "  </thead>\n",
       "  <tbody>\n",
       "    <tr>\n",
       "      <th>0</th>\n",
       "      <td>Andaman_&amp;_Nicobar_Islands</td>\n",
       "      <td>17</td>\n",
       "      <td>1</td>\n",
       "      <td>2019</td>\n",
       "      <td>4.0</td>\n",
       "      <td>0</td>\n",
       "      <td>4</td>\n",
       "      <td>1</td>\n",
       "      <td>KULDEEP RAI SHARMA</td>\n",
       "      <td>M</td>\n",
       "      <td>...</td>\n",
       "      <td>1.0</td>\n",
       "      <td>False</td>\n",
       "      <td>False</td>\n",
       "      <td>True</td>\n",
       "      <td>Graduate Professional</td>\n",
       "      <td>Business</td>\n",
       "      <td>NaN</td>\n",
       "      <td>Social Work</td>\n",
       "      <td>NaN</td>\n",
       "      <td>Lok Sabha Election (GE)</td>\n",
       "    </tr>\n",
       "    <tr>\n",
       "      <th>1</th>\n",
       "      <td>Andaman_&amp;_Nicobar_Islands</td>\n",
       "      <td>17</td>\n",
       "      <td>1</td>\n",
       "      <td>2019</td>\n",
       "      <td>4.0</td>\n",
       "      <td>0</td>\n",
       "      <td>4</td>\n",
       "      <td>2</td>\n",
       "      <td>VISHAL JOLLY</td>\n",
       "      <td>M</td>\n",
       "      <td>...</td>\n",
       "      <td>0.0</td>\n",
       "      <td>False</td>\n",
       "      <td>False</td>\n",
       "      <td>False</td>\n",
       "      <td>Graduate Professional</td>\n",
       "      <td>Liberal Profession or Professional</td>\n",
       "      <td>Lawyer</td>\n",
       "      <td>NaN</td>\n",
       "      <td>NaN</td>\n",
       "      <td>Lok Sabha Election (GE)</td>\n",
       "    </tr>\n",
       "    <tr>\n",
       "      <th>2</th>\n",
       "      <td>Andaman_&amp;_Nicobar_Islands</td>\n",
       "      <td>17</td>\n",
       "      <td>1</td>\n",
       "      <td>2019</td>\n",
       "      <td>4.0</td>\n",
       "      <td>0</td>\n",
       "      <td>4</td>\n",
       "      <td>3</td>\n",
       "      <td>PARITOSH KUMAR HALDAR</td>\n",
       "      <td>M</td>\n",
       "      <td>...</td>\n",
       "      <td>0.0</td>\n",
       "      <td>False</td>\n",
       "      <td>False</td>\n",
       "      <td>False</td>\n",
       "      <td>Post Graduate</td>\n",
       "      <td>Agriculture</td>\n",
       "      <td>NaN</td>\n",
       "      <td>NaN</td>\n",
       "      <td>NaN</td>\n",
       "      <td>Lok Sabha Election (GE)</td>\n",
       "    </tr>\n",
       "    <tr>\n",
       "      <th>3</th>\n",
       "      <td>Andaman_&amp;_Nicobar_Islands</td>\n",
       "      <td>17</td>\n",
       "      <td>1</td>\n",
       "      <td>2019</td>\n",
       "      <td>4.0</td>\n",
       "      <td>0</td>\n",
       "      <td>4</td>\n",
       "      <td>4</td>\n",
       "      <td>SANJAY MESHACK</td>\n",
       "      <td>M</td>\n",
       "      <td>...</td>\n",
       "      <td>0.0</td>\n",
       "      <td>False</td>\n",
       "      <td>False</td>\n",
       "      <td>True</td>\n",
       "      <td>12th Pass</td>\n",
       "      <td>Business</td>\n",
       "      <td>NaN</td>\n",
       "      <td>Politics</td>\n",
       "      <td>Municipality Member</td>\n",
       "      <td>Lok Sabha Election (GE)</td>\n",
       "    </tr>\n",
       "    <tr>\n",
       "      <th>4</th>\n",
       "      <td>Andaman_&amp;_Nicobar_Islands</td>\n",
       "      <td>17</td>\n",
       "      <td>1</td>\n",
       "      <td>2019</td>\n",
       "      <td>4.0</td>\n",
       "      <td>0</td>\n",
       "      <td>4</td>\n",
       "      <td>5</td>\n",
       "      <td>PRAKASH MINJ</td>\n",
       "      <td>M</td>\n",
       "      <td>...</td>\n",
       "      <td>0.0</td>\n",
       "      <td>False</td>\n",
       "      <td>False</td>\n",
       "      <td>False</td>\n",
       "      <td>Post Graduate</td>\n",
       "      <td>Social Work</td>\n",
       "      <td>NaN</td>\n",
       "      <td>NaN</td>\n",
       "      <td>NaN</td>\n",
       "      <td>Lok Sabha Election (GE)</td>\n",
       "    </tr>\n",
       "  </tbody>\n",
       "</table>\n",
       "<p>5 rows × 45 columns</p>\n",
       "</div>"
      ],
      "text/plain": [
       "                  State_Name  Assembly_No  Constituency_No  Year  month  \\\n",
       "0  Andaman_&_Nicobar_Islands           17                1  2019    4.0   \n",
       "1  Andaman_&_Nicobar_Islands           17                1  2019    4.0   \n",
       "2  Andaman_&_Nicobar_Islands           17                1  2019    4.0   \n",
       "3  Andaman_&_Nicobar_Islands           17                1  2019    4.0   \n",
       "4  Andaman_&_Nicobar_Islands           17                1  2019    4.0   \n",
       "\n",
       "   Poll_No  DelimID  Position              Candidate Sex  ... No_Terms  \\\n",
       "0        0        4         1     KULDEEP RAI SHARMA   M  ...      1.0   \n",
       "1        0        4         2           VISHAL JOLLY   M  ...      0.0   \n",
       "2        0        4         3  PARITOSH KUMAR HALDAR   M  ...      0.0   \n",
       "3        0        4         4         SANJAY MESHACK   M  ...      0.0   \n",
       "4        0        4         5           PRAKASH MINJ   M  ...      0.0   \n",
       "\n",
       "   Turncoat Incumbent  Recontest       MyNeta_education  \\\n",
       "0     False     False       True  Graduate Professional   \n",
       "1     False     False      False  Graduate Professional   \n",
       "2     False     False      False          Post Graduate   \n",
       "3     False     False       True              12th Pass   \n",
       "4     False     False      False          Post Graduate   \n",
       "\n",
       "                       TCPD_Prof_Main TCPD_Prof_Main_Desc TCPD_Prof_Second  \\\n",
       "0                            Business                 NaN      Social Work   \n",
       "1  Liberal Profession or Professional              Lawyer              NaN   \n",
       "2                         Agriculture                 NaN              NaN   \n",
       "3                            Business                 NaN         Politics   \n",
       "4                         Social Work                 NaN              NaN   \n",
       "\n",
       "   TCPD_Prof_Second_Desc            Election_Type  \n",
       "0                    NaN  Lok Sabha Election (GE)  \n",
       "1                    NaN  Lok Sabha Election (GE)  \n",
       "2                    NaN  Lok Sabha Election (GE)  \n",
       "3    Municipality Member  Lok Sabha Election (GE)  \n",
       "4                    NaN  Lok Sabha Election (GE)  \n",
       "\n",
       "[5 rows x 45 columns]"
      ]
     },
     "execution_count": 302,
     "metadata": {},
     "output_type": "execute_result"
    }
   ],
   "source": [
    "df.head()"
   ]
  },
  {
   "cell_type": "code",
   "execution_count": 303,
   "id": "1446f8a2",
   "metadata": {},
   "outputs": [
    {
     "name": "stdout",
     "output_type": "stream",
     "text": [
      "The data has 91669  rows and  45 columns.\n"
     ]
    }
   ],
   "source": [
    "print('The data has', df.shape[0], ' rows and ', df.shape[1],'columns.')"
   ]
  },
  {
   "cell_type": "code",
   "execution_count": 304,
   "id": "a425e5b3",
   "metadata": {},
   "outputs": [
    {
     "name": "stdout",
     "output_type": "stream",
     "text": [
      "Column--> State_Name ; Data type--> object\n",
      "Column--> Assembly_No ; Data type--> int64\n",
      "Column--> Constituency_No ; Data type--> int64\n",
      "Column--> Year ; Data type--> int64\n",
      "Column--> month ; Data type--> float64\n",
      "Column--> Poll_No ; Data type--> int64\n",
      "Column--> DelimID ; Data type--> int64\n",
      "Column--> Position ; Data type--> int64\n",
      "Column--> Candidate ; Data type--> object\n",
      "Column--> Sex ; Data type--> object\n",
      "Column--> Party ; Data type--> object\n",
      "Column--> Votes ; Data type--> float64\n",
      "Column--> Candidate_Type ; Data type--> object\n",
      "Column--> Valid_Votes ; Data type--> int64\n",
      "Column--> Electors ; Data type--> float64\n",
      "Column--> Constituency_Name ; Data type--> object\n",
      "Column--> Constituency_Type ; Data type--> object\n",
      "Column--> Sub_Region ; Data type--> object\n",
      "Column--> N_Cand ; Data type--> int64\n",
      "Column--> Turnout_Percentage ; Data type--> float64\n",
      "Column--> Vote_Share_Percentage ; Data type--> float64\n",
      "Column--> Deposit_Lost ; Data type--> object\n",
      "Column--> Margin ; Data type--> float64\n",
      "Column--> Margin_Percentage ; Data type--> float64\n",
      "Column--> ENOP ; Data type--> float64\n",
      "Column--> pid ; Data type--> object\n",
      "Column--> Party_Type_TCPD ; Data type--> object\n",
      "Column--> Party_ID ; Data type--> float64\n",
      "Column--> last_poll ; Data type--> bool\n",
      "Column--> Contested ; Data type--> float64\n",
      "Column--> Last_Party ; Data type--> object\n",
      "Column--> Last_Party_ID ; Data type--> float64\n",
      "Column--> Last_Constituency_Name ; Data type--> object\n",
      "Column--> Same_Constituency ; Data type--> object\n",
      "Column--> Same_Party ; Data type--> object\n",
      "Column--> No_Terms ; Data type--> float64\n",
      "Column--> Turncoat ; Data type--> object\n",
      "Column--> Incumbent ; Data type--> object\n",
      "Column--> Recontest ; Data type--> object\n",
      "Column--> MyNeta_education ; Data type--> object\n",
      "Column--> TCPD_Prof_Main ; Data type--> object\n",
      "Column--> TCPD_Prof_Main_Desc ; Data type--> object\n",
      "Column--> TCPD_Prof_Second ; Data type--> object\n",
      "Column--> TCPD_Prof_Second_Desc ; Data type--> object\n",
      "Column--> Election_Type ; Data type--> object\n"
     ]
    }
   ],
   "source": [
    "for column in df.columns:\n",
    "    print(\"Column-->\",column,\"; Data type-->\", df[column].dtype )"
   ]
  },
  {
   "cell_type": "markdown",
   "id": "f3ebc294",
   "metadata": {},
   "source": [
    "# 3. Data Preprocessing"
   ]
  },
  {
   "cell_type": "markdown",
   "id": "a244be26",
   "metadata": {},
   "source": [
    "## Removing Trivially Non-Useful Columns"
   ]
  },
  {
   "cell_type": "markdown",
   "id": "8850bdc9",
   "metadata": {},
   "source": [
    "### Assembly_No and Year"
   ]
  },
  {
   "cell_type": "code",
   "execution_count": 305,
   "id": "e7e469a0",
   "metadata": {},
   "outputs": [
    {
     "data": {
      "text/plain": [
       "count    91669.000000\n",
       "mean        11.447360\n",
       "std          3.792191\n",
       "min          3.000000\n",
       "25%          9.000000\n",
       "50%         11.000000\n",
       "75%         15.000000\n",
       "max         17.000000\n",
       "Name: Assembly_No, dtype: float64"
      ]
     },
     "execution_count": 305,
     "metadata": {},
     "output_type": "execute_result"
    }
   ],
   "source": [
    "df['Assembly_No'].describe()"
   ]
  },
  {
   "cell_type": "markdown",
   "id": "54abc2d8",
   "metadata": {},
   "source": [
    "It Clearly is the # of General election. Therefore, lets keep rows where the assembly no = 17 and the year = 2019"
   ]
  },
  {
   "cell_type": "code",
   "execution_count": 306,
   "id": "a4cc4f60",
   "metadata": {},
   "outputs": [],
   "source": [
    "df = df[(df['Assembly_No'] == 17) & (df['Year'] == 2019)]"
   ]
  },
  {
   "cell_type": "code",
   "execution_count": 307,
   "id": "a1c07ccd",
   "metadata": {},
   "outputs": [
    {
     "name": "stdout",
     "output_type": "stream",
     "text": [
      "The updated dataframe has  8613  rows\n"
     ]
    }
   ],
   "source": [
    "print(\"The updated dataframe has \", df.shape[0], \" rows\" )"
   ]
  },
  {
   "cell_type": "markdown",
   "id": "d95f9db7",
   "metadata": {},
   "source": [
    "We have substantially reduced our problem"
   ]
  },
  {
   "cell_type": "markdown",
   "id": "7326dd09",
   "metadata": {},
   "source": [
    "Now, we can drop both Assembly_No and year"
   ]
  },
  {
   "cell_type": "code",
   "execution_count": 308,
   "id": "6367d590",
   "metadata": {},
   "outputs": [],
   "source": [
    "df = df.drop( columns = ['Assembly_No', 'Year'], axis = 1)"
   ]
  },
  {
   "cell_type": "code",
   "execution_count": 309,
   "id": "7ff6ebfd",
   "metadata": {},
   "outputs": [
    {
     "data": {
      "text/plain": [
       "(8613, 43)"
      ]
     },
     "execution_count": 309,
     "metadata": {},
     "output_type": "execute_result"
    }
   ],
   "source": [
    "df.shape"
   ]
  },
  {
   "cell_type": "markdown",
   "id": "17bcda60",
   "metadata": {},
   "source": [
    "### Election_Type"
   ]
  },
  {
   "cell_type": "code",
   "execution_count": 310,
   "id": "65907528",
   "metadata": {},
   "outputs": [
    {
     "data": {
      "text/plain": [
       "array(['Lok Sabha Election (GE)'], dtype=object)"
      ]
     },
     "execution_count": 310,
     "metadata": {},
     "output_type": "execute_result"
    }
   ],
   "source": [
    "df['Election_Type'].unique()"
   ]
  },
  {
   "cell_type": "markdown",
   "id": "1dcb10bc",
   "metadata": {},
   "source": [
    "That was a bit obvious. Lets drop this column"
   ]
  },
  {
   "cell_type": "code",
   "execution_count": 311,
   "id": "606ddef5",
   "metadata": {},
   "outputs": [],
   "source": [
    "df.drop(columns = ['Election_Type'], axis = 1, inplace = True)"
   ]
  },
  {
   "cell_type": "markdown",
   "id": "0b6dfd10",
   "metadata": {},
   "source": [
    "### DelimID"
   ]
  },
  {
   "cell_type": "code",
   "execution_count": 312,
   "id": "f3cea28d",
   "metadata": {},
   "outputs": [
    {
     "data": {
      "text/plain": [
       "array([4], dtype=int64)"
      ]
     },
     "execution_count": 312,
     "metadata": {},
     "output_type": "execute_result"
    }
   ],
   "source": [
    "df['DelimID'].unique()"
   ]
  },
  {
   "cell_type": "markdown",
   "id": "0b95e07a",
   "metadata": {},
   "source": [
    "now the delimID is same for all rows, so that might not be of so much use. Lets drop it"
   ]
  },
  {
   "cell_type": "code",
   "execution_count": 313,
   "id": "1d714c03",
   "metadata": {},
   "outputs": [],
   "source": [
    "df = df.drop( columns = ['DelimID'], axis = 1)"
   ]
  },
  {
   "cell_type": "markdown",
   "id": "e512f51d",
   "metadata": {},
   "source": [
    "### month"
   ]
  },
  {
   "cell_type": "markdown",
   "id": "db1b93cf",
   "metadata": {},
   "source": [
    "month is supposed to be the month in which results were declared. Lets drop this too"
   ]
  },
  {
   "cell_type": "code",
   "execution_count": 314,
   "id": "f7b454ac",
   "metadata": {},
   "outputs": [],
   "source": [
    "df.drop( columns = ['month'], axis = 1, inplace = True)"
   ]
  },
  {
   "cell_type": "markdown",
   "id": "4fcac654",
   "metadata": {},
   "source": [
    "### Profession Description"
   ]
  },
  {
   "cell_type": "markdown",
   "id": "4e2bb268",
   "metadata": {},
   "source": [
    "To make our work less cumbersome, we can drop the descriptions and just keep the professions."
   ]
  },
  {
   "cell_type": "code",
   "execution_count": 315,
   "id": "2f856913",
   "metadata": {},
   "outputs": [],
   "source": [
    "df.drop(columns = ['TCPD_Prof_Second_Desc','TCPD_Prof_Main_Desc'], axis = 1, inplace = True)"
   ]
  },
  {
   "cell_type": "code",
   "execution_count": 316,
   "id": "d9a221b3",
   "metadata": {},
   "outputs": [
    {
     "data": {
      "text/plain": [
       "0    8596\n",
       "1      17\n",
       "Name: Poll_No, dtype: int64"
      ]
     },
     "execution_count": 316,
     "metadata": {},
     "output_type": "execute_result"
    }
   ],
   "source": [
    "df.Poll_No.value_counts()"
   ]
  },
  {
   "cell_type": "markdown",
   "id": "addd6396",
   "metadata": {},
   "source": [
    "Now that we have removed 7 out of 45 columns without any significant loss of information, we can move forward"
   ]
  },
  {
   "cell_type": "markdown",
   "id": "795c8b8d",
   "metadata": {},
   "source": [
    "## Removing Duplicates"
   ]
  },
  {
   "cell_type": "code",
   "execution_count": 317,
   "id": "2c5125b0",
   "metadata": {},
   "outputs": [
    {
     "data": {
      "text/html": [
       "<div>\n",
       "<style scoped>\n",
       "    .dataframe tbody tr th:only-of-type {\n",
       "        vertical-align: middle;\n",
       "    }\n",
       "\n",
       "    .dataframe tbody tr th {\n",
       "        vertical-align: top;\n",
       "    }\n",
       "\n",
       "    .dataframe thead th {\n",
       "        text-align: right;\n",
       "    }\n",
       "</style>\n",
       "<table border=\"1\" class=\"dataframe\">\n",
       "  <thead>\n",
       "    <tr style=\"text-align: right;\">\n",
       "      <th></th>\n",
       "      <th>State_Name</th>\n",
       "      <th>Constituency_No</th>\n",
       "      <th>Poll_No</th>\n",
       "      <th>Position</th>\n",
       "      <th>Candidate</th>\n",
       "      <th>Sex</th>\n",
       "      <th>Party</th>\n",
       "      <th>Votes</th>\n",
       "      <th>Candidate_Type</th>\n",
       "      <th>Valid_Votes</th>\n",
       "      <th>...</th>\n",
       "      <th>Last_Constituency_Name</th>\n",
       "      <th>Same_Constituency</th>\n",
       "      <th>Same_Party</th>\n",
       "      <th>No_Terms</th>\n",
       "      <th>Turncoat</th>\n",
       "      <th>Incumbent</th>\n",
       "      <th>Recontest</th>\n",
       "      <th>MyNeta_education</th>\n",
       "      <th>TCPD_Prof_Main</th>\n",
       "      <th>TCPD_Prof_Second</th>\n",
       "    </tr>\n",
       "  </thead>\n",
       "  <tbody>\n",
       "  </tbody>\n",
       "</table>\n",
       "<p>0 rows × 38 columns</p>\n",
       "</div>"
      ],
      "text/plain": [
       "Empty DataFrame\n",
       "Columns: [State_Name, Constituency_No, Poll_No, Position, Candidate, Sex, Party, Votes, Candidate_Type, Valid_Votes, Electors, Constituency_Name, Constituency_Type, Sub_Region, N_Cand, Turnout_Percentage, Vote_Share_Percentage, Deposit_Lost, Margin, Margin_Percentage, ENOP, pid, Party_Type_TCPD, Party_ID, last_poll, Contested, Last_Party, Last_Party_ID, Last_Constituency_Name, Same_Constituency, Same_Party, No_Terms, Turncoat, Incumbent, Recontest, MyNeta_education, TCPD_Prof_Main, TCPD_Prof_Second]\n",
       "Index: []\n",
       "\n",
       "[0 rows x 38 columns]"
      ]
     },
     "execution_count": 317,
     "metadata": {},
     "output_type": "execute_result"
    }
   ],
   "source": [
    "df[df.duplicated(['pid', 'Candidate', 'State_Name', 'Constituency_No']) & (df['Candidate'] != 'NOTA')]"
   ]
  },
  {
   "cell_type": "markdown",
   "id": "74d388c8",
   "metadata": {},
   "source": [
    "So, there are no duplicate rows as such. We can move on"
   ]
  },
  {
   "cell_type": "markdown",
   "id": "d4312252",
   "metadata": {},
   "source": [
    "## Handling Null Values"
   ]
  },
  {
   "cell_type": "code",
   "execution_count": 318,
   "id": "0516454d",
   "metadata": {},
   "outputs": [
    {
     "data": {
      "text/plain": [
       "State_Name                   0\n",
       "Constituency_No              0\n",
       "Poll_No                      0\n",
       "Position                     0\n",
       "Candidate                    0\n",
       "Sex                        544\n",
       "Party                        2\n",
       "Votes                        0\n",
       "Candidate_Type            5485\n",
       "Valid_Votes                  0\n",
       "Electors                     0\n",
       "Constituency_Name            0\n",
       "Constituency_Type            0\n",
       "Sub_Region                7554\n",
       "N_Cand                       0\n",
       "Turnout_Percentage           0\n",
       "Vote_Share_Percentage        0\n",
       "Deposit_Lost               544\n",
       "Margin                       0\n",
       "Margin_Percentage            0\n",
       "ENOP                         0\n",
       "pid                        544\n",
       "Party_Type_TCPD             28\n",
       "Party_ID                    17\n",
       "last_poll                    0\n",
       "Contested                  544\n",
       "Last_Party                7298\n",
       "Last_Party_ID             7300\n",
       "Last_Constituency_Name    7298\n",
       "Same_Constituency         7298\n",
       "Same_Party                7298\n",
       "No_Terms                   544\n",
       "Turncoat                   544\n",
       "Incumbent                  544\n",
       "Recontest                  544\n",
       "MyNeta_education          1219\n",
       "TCPD_Prof_Main            1197\n",
       "TCPD_Prof_Second          7273\n",
       "dtype: int64"
      ]
     },
     "execution_count": 318,
     "metadata": {},
     "output_type": "execute_result"
    }
   ],
   "source": [
    "df.isnull().sum()"
   ]
  },
  {
   "cell_type": "markdown",
   "id": "dc970170",
   "metadata": {},
   "source": [
    "There are a lot of null values and its not at all desirable in a dataset. We need to do something about it. Lets go over them one by one"
   ]
  },
  {
   "cell_type": "markdown",
   "id": "98f5a5d9",
   "metadata": {},
   "source": [
    "### Sex"
   ]
  },
  {
   "cell_type": "code",
   "execution_count": 319,
   "id": "2ebebfa9",
   "metadata": {},
   "outputs": [
    {
     "data": {
      "text/plain": [
       "544"
      ]
     },
     "execution_count": 319,
     "metadata": {},
     "output_type": "execute_result"
    }
   ],
   "source": [
    "df['Sex'].isnull().sum()"
   ]
  },
  {
   "cell_type": "code",
   "execution_count": 320,
   "id": "9569690a",
   "metadata": {},
   "outputs": [
    {
     "data": {
      "text/plain": [
       "544"
      ]
     },
     "execution_count": 320,
     "metadata": {},
     "output_type": "execute_result"
    }
   ],
   "source": [
    "df[df['Candidate'] == 'NOTA'].shape[0]"
   ]
  },
  {
   "cell_type": "code",
   "execution_count": 321,
   "id": "12935dff",
   "metadata": {},
   "outputs": [
    {
     "data": {
      "text/html": [
       "<div>\n",
       "<style scoped>\n",
       "    .dataframe tbody tr th:only-of-type {\n",
       "        vertical-align: middle;\n",
       "    }\n",
       "\n",
       "    .dataframe tbody tr th {\n",
       "        vertical-align: top;\n",
       "    }\n",
       "\n",
       "    .dataframe thead th {\n",
       "        text-align: right;\n",
       "    }\n",
       "</style>\n",
       "<table border=\"1\" class=\"dataframe\">\n",
       "  <thead>\n",
       "    <tr style=\"text-align: right;\">\n",
       "      <th></th>\n",
       "      <th>State_Name</th>\n",
       "      <th>Constituency_No</th>\n",
       "      <th>Poll_No</th>\n",
       "      <th>Position</th>\n",
       "      <th>Candidate</th>\n",
       "      <th>Sex</th>\n",
       "      <th>Party</th>\n",
       "      <th>Votes</th>\n",
       "      <th>Candidate_Type</th>\n",
       "      <th>Valid_Votes</th>\n",
       "      <th>...</th>\n",
       "      <th>Last_Constituency_Name</th>\n",
       "      <th>Same_Constituency</th>\n",
       "      <th>Same_Party</th>\n",
       "      <th>No_Terms</th>\n",
       "      <th>Turncoat</th>\n",
       "      <th>Incumbent</th>\n",
       "      <th>Recontest</th>\n",
       "      <th>MyNeta_education</th>\n",
       "      <th>TCPD_Prof_Main</th>\n",
       "      <th>TCPD_Prof_Second</th>\n",
       "    </tr>\n",
       "  </thead>\n",
       "  <tbody>\n",
       "  </tbody>\n",
       "</table>\n",
       "<p>0 rows × 38 columns</p>\n",
       "</div>"
      ],
      "text/plain": [
       "Empty DataFrame\n",
       "Columns: [State_Name, Constituency_No, Poll_No, Position, Candidate, Sex, Party, Votes, Candidate_Type, Valid_Votes, Electors, Constituency_Name, Constituency_Type, Sub_Region, N_Cand, Turnout_Percentage, Vote_Share_Percentage, Deposit_Lost, Margin, Margin_Percentage, ENOP, pid, Party_Type_TCPD, Party_ID, last_poll, Contested, Last_Party, Last_Party_ID, Last_Constituency_Name, Same_Constituency, Same_Party, No_Terms, Turncoat, Incumbent, Recontest, MyNeta_education, TCPD_Prof_Main, TCPD_Prof_Second]\n",
       "Index: []\n",
       "\n",
       "[0 rows x 38 columns]"
      ]
     },
     "execution_count": 321,
     "metadata": {},
     "output_type": "execute_result"
    }
   ],
   "source": [
    "df[( df['Candidate'] != 'NOTA' ) & (df['Sex'].isnull() == True)]"
   ]
  },
  {
   "cell_type": "markdown",
   "id": "e21aea8f",
   "metadata": {},
   "source": [
    "From the above 3 lines of code, it is clear that the places where the sex row is missing is occupied by NOTA. For our analysis Purpose, lets fill it with 'NOTA'"
   ]
  },
  {
   "cell_type": "code",
   "execution_count": 322,
   "id": "c501d53f",
   "metadata": {},
   "outputs": [],
   "source": [
    "df['Sex'].fillna( 'NOTA', inplace = True)"
   ]
  },
  {
   "cell_type": "markdown",
   "id": "36ec0b7a",
   "metadata": {},
   "source": [
    "### Party"
   ]
  },
  {
   "cell_type": "code",
   "execution_count": 323,
   "id": "bcb81f74",
   "metadata": {},
   "outputs": [
    {
     "data": {
      "text/html": [
       "<div>\n",
       "<style scoped>\n",
       "    .dataframe tbody tr th:only-of-type {\n",
       "        vertical-align: middle;\n",
       "    }\n",
       "\n",
       "    .dataframe tbody tr th {\n",
       "        vertical-align: top;\n",
       "    }\n",
       "\n",
       "    .dataframe thead th {\n",
       "        text-align: right;\n",
       "    }\n",
       "</style>\n",
       "<table border=\"1\" class=\"dataframe\">\n",
       "  <thead>\n",
       "    <tr style=\"text-align: right;\">\n",
       "      <th></th>\n",
       "      <th>State_Name</th>\n",
       "      <th>Constituency_No</th>\n",
       "      <th>Poll_No</th>\n",
       "      <th>Position</th>\n",
       "      <th>Candidate</th>\n",
       "      <th>Sex</th>\n",
       "      <th>Party</th>\n",
       "      <th>Votes</th>\n",
       "      <th>Candidate_Type</th>\n",
       "      <th>Valid_Votes</th>\n",
       "      <th>...</th>\n",
       "      <th>Last_Constituency_Name</th>\n",
       "      <th>Same_Constituency</th>\n",
       "      <th>Same_Party</th>\n",
       "      <th>No_Terms</th>\n",
       "      <th>Turncoat</th>\n",
       "      <th>Incumbent</th>\n",
       "      <th>Recontest</th>\n",
       "      <th>MyNeta_education</th>\n",
       "      <th>TCPD_Prof_Main</th>\n",
       "      <th>TCPD_Prof_Second</th>\n",
       "    </tr>\n",
       "  </thead>\n",
       "  <tbody>\n",
       "    <tr>\n",
       "      <th>8599</th>\n",
       "      <td>Bihar</td>\n",
       "      <td>23</td>\n",
       "      <td>1</td>\n",
       "      <td>4</td>\n",
       "      <td>NOTA</td>\n",
       "      <td>NOTA</td>\n",
       "      <td>NaN</td>\n",
       "      <td>25694.0</td>\n",
       "      <td>NaN</td>\n",
       "      <td>788679</td>\n",
       "      <td>...</td>\n",
       "      <td>NaN</td>\n",
       "      <td>NaN</td>\n",
       "      <td>NaN</td>\n",
       "      <td>NaN</td>\n",
       "      <td>NaN</td>\n",
       "      <td>NaN</td>\n",
       "      <td>NaN</td>\n",
       "      <td>NaN</td>\n",
       "      <td>NaN</td>\n",
       "      <td>NaN</td>\n",
       "    </tr>\n",
       "    <tr>\n",
       "      <th>8609</th>\n",
       "      <td>Maharashtra</td>\n",
       "      <td>45</td>\n",
       "      <td>1</td>\n",
       "      <td>5</td>\n",
       "      <td>NOTA</td>\n",
       "      <td>NOTA</td>\n",
       "      <td>NaN</td>\n",
       "      <td>10159.0</td>\n",
       "      <td>NaN</td>\n",
       "      <td>1254637</td>\n",
       "      <td>...</td>\n",
       "      <td>NaN</td>\n",
       "      <td>NaN</td>\n",
       "      <td>NaN</td>\n",
       "      <td>NaN</td>\n",
       "      <td>NaN</td>\n",
       "      <td>NaN</td>\n",
       "      <td>NaN</td>\n",
       "      <td>NaN</td>\n",
       "      <td>NaN</td>\n",
       "      <td>NaN</td>\n",
       "    </tr>\n",
       "  </tbody>\n",
       "</table>\n",
       "<p>2 rows × 38 columns</p>\n",
       "</div>"
      ],
      "text/plain": [
       "       State_Name  Constituency_No  Poll_No  Position Candidate   Sex Party  \\\n",
       "8599        Bihar               23        1         4      NOTA  NOTA   NaN   \n",
       "8609  Maharashtra               45        1         5      NOTA  NOTA   NaN   \n",
       "\n",
       "        Votes Candidate_Type  Valid_Votes  ...  Last_Constituency_Name  \\\n",
       "8599  25694.0            NaN       788679  ...                     NaN   \n",
       "8609  10159.0            NaN      1254637  ...                     NaN   \n",
       "\n",
       "     Same_Constituency Same_Party No_Terms  Turncoat  Incumbent  Recontest  \\\n",
       "8599               NaN        NaN      NaN       NaN        NaN        NaN   \n",
       "8609               NaN        NaN      NaN       NaN        NaN        NaN   \n",
       "\n",
       "     MyNeta_education  TCPD_Prof_Main  TCPD_Prof_Second  \n",
       "8599              NaN             NaN               NaN  \n",
       "8609              NaN             NaN               NaN  \n",
       "\n",
       "[2 rows x 38 columns]"
      ]
     },
     "execution_count": 323,
     "metadata": {},
     "output_type": "execute_result"
    }
   ],
   "source": [
    "df[df['Party'].isnull() == True]"
   ]
  },
  {
   "cell_type": "markdown",
   "id": "ba26950b",
   "metadata": {},
   "source": [
    "The 'NOTA' Candidate in the by-elections has not been given a Party. We will see what party NOTA has been given in other places, and then replace it with that"
   ]
  },
  {
   "cell_type": "code",
   "execution_count": 324,
   "id": "fb1960c9",
   "metadata": {},
   "outputs": [
    {
     "data": {
      "text/plain": [
       "array(['NOTA', nan], dtype=object)"
      ]
     },
     "execution_count": 324,
     "metadata": {},
     "output_type": "execute_result"
    }
   ],
   "source": [
    "df[df['Candidate'] == 'NOTA'].Party.unique()"
   ]
  },
  {
   "cell_type": "code",
   "execution_count": 325,
   "id": "10fd5e2d",
   "metadata": {},
   "outputs": [],
   "source": [
    "df['Party'].fillna('NOTA', inplace = True)"
   ]
  },
  {
   "cell_type": "markdown",
   "id": "b776fcf3",
   "metadata": {},
   "source": [
    "### Candidate_Type"
   ]
  },
  {
   "cell_type": "code",
   "execution_count": 326,
   "id": "b00e0476",
   "metadata": {},
   "outputs": [
    {
     "data": {
      "text/plain": [
       "0.6368280506211541"
      ]
     },
     "execution_count": 326,
     "metadata": {},
     "output_type": "execute_result"
    }
   ],
   "source": [
    "df['Candidate_Type'].isnull().sum()/len(df)"
   ]
  },
  {
   "cell_type": "markdown",
   "id": "176088a2",
   "metadata": {},
   "source": [
    "63% of the candidate_Type values are missing"
   ]
  },
  {
   "cell_type": "code",
   "execution_count": 327,
   "id": "d63fdb45",
   "metadata": {},
   "outputs": [
    {
     "data": {
      "text/plain": [
       "array(['GEN', 'ST', 'SC', 'GENERAL'], dtype=object)"
      ]
     },
     "execution_count": 327,
     "metadata": {},
     "output_type": "execute_result"
    }
   ],
   "source": [
    "df[df['Candidate_Type'].isnull() == False]['Candidate_Type'].unique()"
   ]
  },
  {
   "cell_type": "markdown",
   "id": "1ed41a83",
   "metadata": {},
   "source": [
    "Clearly, NOTA has no Candidate_Type . Lets just name it 'NOTA'"
   ]
  },
  {
   "cell_type": "code",
   "execution_count": 328,
   "id": "d484d955",
   "metadata": {},
   "outputs": [],
   "source": [
    "df.loc[(df['Candidate'] == 'NOTA') & (df['Candidate_Type'].isnull()), 'Candidate_Type'] = 'NOTA'"
   ]
  },
  {
   "cell_type": "code",
   "execution_count": 329,
   "id": "6e8bae64",
   "metadata": {},
   "outputs": [
    {
     "data": {
      "text/plain": [
       "4941"
      ]
     },
     "execution_count": 329,
     "metadata": {},
     "output_type": "execute_result"
    }
   ],
   "source": [
    "df['Candidate_Type'].isnull().sum()"
   ]
  },
  {
   "cell_type": "code",
   "execution_count": 330,
   "id": "980a68cb",
   "metadata": {},
   "outputs": [],
   "source": [
    "df.loc[(df['Candidate_Type'] == 'GENERAL'), 'Candidate_Type'] = 'GEN'"
   ]
  },
  {
   "cell_type": "markdown",
   "id": "7fbf615e",
   "metadata": {},
   "source": [
    "Now, as only SC or ST candidates can fill their respective seats, wherever the constituency_Type is SC or ST, we set the candidate_Type to that value"
   ]
  },
  {
   "cell_type": "code",
   "execution_count": 331,
   "id": "7b7fab70",
   "metadata": {},
   "outputs": [],
   "source": [
    "df.loc[( (df['Constituency_Type'] == 'SC') | (df['Constituency_Type'] == 'ST')&(df['Candidate_Type'].isnull() == True) ), 'Candidate_Type'] = df['Constituency_Type']"
   ]
  },
  {
   "cell_type": "code",
   "execution_count": 332,
   "id": "c377d312",
   "metadata": {},
   "outputs": [
    {
     "data": {
      "text/plain": [
       "4931"
      ]
     },
     "execution_count": 332,
     "metadata": {},
     "output_type": "execute_result"
    }
   ],
   "source": [
    "df['Candidate_Type'].isnull().sum()"
   ]
  },
  {
   "cell_type": "markdown",
   "id": "ad1b492f",
   "metadata": {},
   "source": [
    "Sadly, we could not get much done using the above technique. Now looking at the name we can predict the Candidate_Type but lets leave that for another day. Lets preserve the missing values by replacing them with 'UNKNOWN'"
   ]
  },
  {
   "cell_type": "code",
   "execution_count": 333,
   "id": "86b440c2",
   "metadata": {},
   "outputs": [],
   "source": [
    "df.loc[(df['Candidate_Type'].isnull()), 'Candidate_Type'] = 'UNKNOWN'"
   ]
  },
  {
   "cell_type": "markdown",
   "id": "92b2c769",
   "metadata": {},
   "source": [
    "### Sub_region"
   ]
  },
  {
   "cell_type": "code",
   "execution_count": 334,
   "id": "26056f20",
   "metadata": {},
   "outputs": [
    {
     "data": {
      "text/plain": [
       "0.8770463253221874"
      ]
     },
     "execution_count": 334,
     "metadata": {},
     "output_type": "execute_result"
    }
   ],
   "source": [
    "df['Sub_Region'].isnull().sum()/len(df)"
   ]
  },
  {
   "cell_type": "markdown",
   "id": "455d59f2",
   "metadata": {},
   "source": [
    "87% of the values are missing here. Given the relative importance of this column that we can percieve and the no of missing values, lets just drop this column"
   ]
  },
  {
   "cell_type": "code",
   "execution_count": 335,
   "id": "21c088cf",
   "metadata": {},
   "outputs": [],
   "source": [
    "df.drop(columns = ['Sub_Region'], inplace = True)"
   ]
  },
  {
   "cell_type": "markdown",
   "id": "3564b07e",
   "metadata": {},
   "source": [
    "### Deposit_Lost"
   ]
  },
  {
   "cell_type": "markdown",
   "id": "2ae7cac1",
   "metadata": {},
   "source": [
    "There are 544 missing values here. It might be the same case that we had with 'Sex'. We can replace the missing values with 0, as no money was lost"
   ]
  },
  {
   "cell_type": "code",
   "execution_count": 336,
   "id": "4629f3ad",
   "metadata": {},
   "outputs": [],
   "source": [
    "df.loc[(df['Deposit_Lost'].isnull())&(df['Candidate'] == 'NOTA'), 'Deposit_Lost'] = 0"
   ]
  },
  {
   "cell_type": "code",
   "execution_count": 337,
   "id": "6d1c73ef",
   "metadata": {},
   "outputs": [
    {
     "data": {
      "text/plain": [
       "0"
      ]
     },
     "execution_count": 337,
     "metadata": {},
     "output_type": "execute_result"
    }
   ],
   "source": [
    "df['Deposit_Lost'].isnull().sum()"
   ]
  },
  {
   "cell_type": "markdown",
   "id": "be9c3a9b",
   "metadata": {},
   "source": [
    "Our Suspicion was correct, and we are done here"
   ]
  },
  {
   "cell_type": "markdown",
   "id": "f1fb23f0",
   "metadata": {},
   "source": [
    "### pid"
   ]
  },
  {
   "cell_type": "markdown",
   "id": "7f7e873a",
   "metadata": {},
   "source": [
    "Again, NOTA is probably the troublemaker here"
   ]
  },
  {
   "cell_type": "code",
   "execution_count": 338,
   "id": "7b955db4",
   "metadata": {},
   "outputs": [],
   "source": [
    "df.loc[(df['pid'].isnull())&(df['Candidate'] == 'NOTA'), 'pid'] = 'NOTA'"
   ]
  },
  {
   "cell_type": "code",
   "execution_count": 339,
   "id": "29fa25b8",
   "metadata": {},
   "outputs": [
    {
     "data": {
      "text/plain": [
       "0"
      ]
     },
     "execution_count": 339,
     "metadata": {},
     "output_type": "execute_result"
    }
   ],
   "source": [
    "df['pid'].isnull().sum()"
   ]
  },
  {
   "cell_type": "markdown",
   "id": "617cb7df",
   "metadata": {},
   "source": [
    "Yes, we have to recognize these patterns and use logic before we leverage the power of code"
   ]
  },
  {
   "cell_type": "markdown",
   "id": "6273c64a",
   "metadata": {},
   "source": [
    "### No_Terms, Turncoat, Incumbent, Recontest and Contested"
   ]
  },
  {
   "cell_type": "markdown",
   "id": "e2c099eb",
   "metadata": {},
   "source": [
    "All these columns have 544 missing values. Lets handle them too and check. We replace No_Turns with 0, Turncoat with 0, Incumbent with 0, Recontest with 0"
   ]
  },
  {
   "cell_type": "code",
   "execution_count": 342,
   "id": "848b27e5",
   "metadata": {},
   "outputs": [
    {
     "name": "stdout",
     "output_type": "stream",
     "text": [
      "No_Terms 0\n",
      "Turncoat 0\n",
      "Incumbent 0\n",
      "Recontest 0\n",
      "Contested 0\n"
     ]
    }
   ],
   "source": [
    "columns = ['No_Terms', 'Turncoat', 'Incumbent', 'Recontest', 'Contested']\n",
    "for column in columns :\n",
    "    df.loc[(df[column].isnull())&(df['Candidate'] == 'NOTA'), column] = 0\n",
    "    print( column, df[column].isnull().sum())"
   ]
  },
  {
   "cell_type": "markdown",
   "id": "e93ae518",
   "metadata": {},
   "source": [
    "We are done with the 544 Schedule"
   ]
  },
  {
   "cell_type": "markdown",
   "id": "0dde97f1",
   "metadata": {},
   "source": [
    "### Party_Type_TCPD"
   ]
  },
  {
   "cell_type": "markdown",
   "id": "213b819b",
   "metadata": {},
   "source": [
    "First lets see what are the various party types"
   ]
  },
  {
   "cell_type": "code",
   "execution_count": 359,
   "id": "39e75239",
   "metadata": {},
   "outputs": [
    {
     "data": {
      "text/plain": [
       "array(['National Party', 'Independents',\n",
       "       'State-based Party (Other State)', 'NOTA', 'Local Party',\n",
       "       'State-based Party', nan], dtype=object)"
      ]
     },
     "execution_count": 359,
     "metadata": {},
     "output_type": "execute_result"
    }
   ],
   "source": [
    "df['Party_Type_TCPD'].unique()"
   ]
  },
  {
   "cell_type": "code",
   "execution_count": 349,
   "id": "b4c5f04f",
   "metadata": {},
   "outputs": [
    {
     "data": {
      "text/plain": [
       "2       Independents\n",
       "7       Independents\n",
       "8       Independents\n",
       "9       Independents\n",
       "10      Independents\n",
       "            ...     \n",
       "8601             NaN\n",
       "8602             NaN\n",
       "8607             NaN\n",
       "8610             NaN\n",
       "8611             NaN\n",
       "Name: Party_Type_TCPD, Length: 3466, dtype: object"
      ]
     },
     "execution_count": 349,
     "metadata": {},
     "output_type": "execute_result"
    }
   ],
   "source": [
    "df[(df['Party'] == 'IND')]['Party_Type_TCPD']"
   ]
  },
  {
   "cell_type": "markdown",
   "id": "dfe8cc0a",
   "metadata": {},
   "source": [
    "Party_Type_TCPD is Independents for Independent Candidates, and we also have some missing values there. Lets fill them"
   ]
  },
  {
   "cell_type": "code",
   "execution_count": 355,
   "id": "86d0c028",
   "metadata": {},
   "outputs": [],
   "source": [
    "df.loc[((df['Party'] == 'IND')  & df['Party_Type_TCPD'].isnull()), 'Party_Type_TCPD'] = 'Independents'"
   ]
  },
  {
   "cell_type": "code",
   "execution_count": 352,
   "id": "4a43b2ff",
   "metadata": {},
   "outputs": [
    {
     "data": {
      "text/plain": [
       "6       NOTA\n",
       "18      NOTA\n",
       "30      NOTA\n",
       "40      NOTA\n",
       "56      NOTA\n",
       "        ... \n",
       "8571    NOTA\n",
       "8583    NOTA\n",
       "8591    NOTA\n",
       "8599     NaN\n",
       "8609     NaN\n",
       "Name: Party_Type_TCPD, Length: 544, dtype: object"
      ]
     },
     "execution_count": 352,
     "metadata": {},
     "output_type": "execute_result"
    }
   ],
   "source": [
    "df[(df['Candidate'] == 'NOTA')]['Party_Type_TCPD']"
   ]
  },
  {
   "cell_type": "markdown",
   "id": "5559c944",
   "metadata": {},
   "source": [
    "lets repeat the above procedure for NOTA as well"
   ]
  },
  {
   "cell_type": "code",
   "execution_count": 353,
   "id": "64c09604",
   "metadata": {},
   "outputs": [],
   "source": [
    "df.loc[((df['Candidate'] == 'NOTA')  & df['Party_Type_TCPD'].isnull()), 'Party_Type_TCPD'] = 'NOTA'"
   ]
  },
  {
   "cell_type": "code",
   "execution_count": 356,
   "id": "e435bb12",
   "metadata": {},
   "outputs": [
    {
     "data": {
      "text/plain": [
       "20"
      ]
     },
     "execution_count": 356,
     "metadata": {},
     "output_type": "execute_result"
    }
   ],
   "source": [
    "df['Party_Type_TCPD'].isnull().sum()"
   ]
  },
  {
   "cell_type": "markdown",
   "id": "f10e67a3",
   "metadata": {},
   "source": [
    "Lets see what remains"
   ]
  },
  {
   "cell_type": "code",
   "execution_count": 358,
   "id": "b6fee7d7",
   "metadata": {},
   "outputs": [
    {
     "data": {
      "text/plain": [
       "1442                       ssrd\n",
       "1523                       ssrd\n",
       "1590                       ssrd\n",
       "3185                        igp\n",
       "3721                       ssrd\n",
       "4289                       ssrd\n",
       "4368                       ssrd\n",
       "6989                       svjn\n",
       "7099                       svjn\n",
       "7643                       ssrd\n",
       "7991                        igp\n",
       "8596                        LJP\n",
       "8597                        INC\n",
       "8600          Jan Adhikar Party\n",
       "8603      Yuva Krantikari Party\n",
       "8604        Wazib Adhikar Party\n",
       "8605                        NCP\n",
       "8606                        BJP\n",
       "8608    Vanchit Bahujan Aaghadi\n",
       "8612      Hindustan Janta Party\n",
       "Name: Party, dtype: object"
      ]
     },
     "execution_count": 358,
     "metadata": {},
     "output_type": "execute_result"
    }
   ],
   "source": [
    "df[(df['Party_Type_TCPD'].isnull())]['Party']"
   ]
  },
  {
   "cell_type": "markdown",
   "id": "27d6841b",
   "metadata": {},
   "source": [
    "Turns out Sanatan Sanskriti Raksha Dal is unrecognized. Therefore, we will fill it with 'Local Party'. The IGP is also unrecognized. The LJP is a state based party in bihar, INC ofcourse is a national party, so is the BJP. The NCP is a state based party.The Hindustan Janta Party is an unrecongnized party. Lets treat all others as unrecognized"
   ]
  },
  {
   "cell_type": "code",
   "execution_count": 360,
   "id": "66899209",
   "metadata": {},
   "outputs": [],
   "source": [
    "df.loc[(((df['Party'] == 'INC') | (df['Party'] == 'BJP')) & (df['Party_Type_TCPD'].isnull())), 'Party_Type_TCPD'] = 'National Party'"
   ]
  },
  {
   "cell_type": "code",
   "execution_count": 361,
   "id": "5aef6322",
   "metadata": {},
   "outputs": [],
   "source": [
    "df.loc[(((df['Party'] == 'LJP') | (df['Party'] == 'NCP')) & (df['Party_Type_TCPD'].isnull())), 'Party_Type_TCPD'] = 'State-based Party'"
   ]
  },
  {
   "cell_type": "code",
   "execution_count": 362,
   "id": "9580a4ad",
   "metadata": {},
   "outputs": [
    {
     "data": {
      "text/plain": [
       "16"
      ]
     },
     "execution_count": 362,
     "metadata": {},
     "output_type": "execute_result"
    }
   ],
   "source": [
    "df['Party_Type_TCPD'].isnull().sum()"
   ]
  },
  {
   "cell_type": "code",
   "execution_count": 363,
   "id": "b378037a",
   "metadata": {},
   "outputs": [],
   "source": [
    "df['Party_Type_TCPD'].fillna('Local Party', inplace = True)"
   ]
  },
  {
   "cell_type": "markdown",
   "id": "70bf2888",
   "metadata": {},
   "source": [
    "### Last_Party ,Last_Party_ID, Last_Constituency_Name,Same_Constituency, Same_Party"
   ]
  },
  {
   "cell_type": "markdown",
   "id": "5ace9f7e",
   "metadata": {},
   "source": [
    "These have a lot of missing values. But, it can be for candidates who are contesting for the first time. Wherever this is the case, lets make it 'NA'"
   ]
  },
  {
   "cell_type": "code",
   "execution_count": 368,
   "id": "1741196c",
   "metadata": {},
   "outputs": [],
   "source": [
    "df.loc[(df['Contested'] == 1), 'Last_Party'] = 'NA'"
   ]
  },
  {
   "cell_type": "code",
   "execution_count": 369,
   "id": "4910d9b1",
   "metadata": {},
   "outputs": [],
   "source": [
    "df.loc[(df['Contested'] == 1), 'Last_Party_ID'] = 'NA'"
   ]
  },
  {
   "cell_type": "code",
   "execution_count": 370,
   "id": "3470840b",
   "metadata": {},
   "outputs": [],
   "source": [
    "df.loc[(df['Contested'] == 1), 'Last_Constituency_Name'] = 'NA'"
   ]
  },
  {
   "cell_type": "code",
   "execution_count": 371,
   "id": "2fc0eea5",
   "metadata": {},
   "outputs": [],
   "source": [
    "df.loc[(df['Contested'] == 1), 'Same_Constituency'] = 'NA'"
   ]
  },
  {
   "cell_type": "code",
   "execution_count": 372,
   "id": "d0c782af",
   "metadata": {},
   "outputs": [],
   "source": [
    "df.loc[(df['Contested'] == 1), 'Same_Party'] = 'NA'"
   ]
  },
  {
   "cell_type": "markdown",
   "id": "894a15b4",
   "metadata": {},
   "source": [
    "Now, Most probably NOTA Values remain"
   ]
  },
  {
   "cell_type": "code",
   "execution_count": 374,
   "id": "e792b20d",
   "metadata": {},
   "outputs": [],
   "source": [
    "df.loc[(df['Candidate'] == 'NOTA'), 'Last_Party'] = 'NA'"
   ]
  },
  {
   "cell_type": "code",
   "execution_count": 375,
   "id": "43e62658",
   "metadata": {},
   "outputs": [],
   "source": [
    "df.loc[(df['Candidate'] == 'NOTA'), 'Last_Party_ID'] = 'NA'"
   ]
  },
  {
   "cell_type": "code",
   "execution_count": 376,
   "id": "d9b55396",
   "metadata": {},
   "outputs": [],
   "source": [
    "df.loc[(df['Candidate'] == 'NOTA'), 'Last_Constituency_Name'] = 'NA'"
   ]
  },
  {
   "cell_type": "code",
   "execution_count": 377,
   "id": "653a3369",
   "metadata": {},
   "outputs": [],
   "source": [
    "df.loc[(df['Candidate'] == 'NOTA'), 'Same_Constituency'] = 'NA'"
   ]
  },
  {
   "cell_type": "code",
   "execution_count": 378,
   "id": "374a64e8",
   "metadata": {},
   "outputs": [],
   "source": [
    "df.loc[(df['Candidate'] == 'NOTA'), 'Same_Party'] = 'NA'"
   ]
  },
  {
   "cell_type": "markdown",
   "id": "f28d6745",
   "metadata": {},
   "source": [
    "### Profession and Education"
   ]
  },
  {
   "cell_type": "markdown",
   "id": "d9f298d8",
   "metadata": {},
   "source": [
    "We will drop the secondary profession Column, and fill the remaining values of education  and main profession. Wherever the Candidate is NOTA, we will fill NOTA, otherwise, we fill unknown."
   ]
  },
  {
   "cell_type": "code",
   "execution_count": 387,
   "id": "5e39c6f4",
   "metadata": {},
   "outputs": [],
   "source": [
    "df.drop(columns = ['TCPD_Prof_Second'], axis = 1, inplace = True)"
   ]
  },
  {
   "cell_type": "code",
   "execution_count": 388,
   "id": "89572c0d",
   "metadata": {},
   "outputs": [],
   "source": [
    "df.loc[((df['Candidate'] == 'NOTA') & (df['TCPD_Prof_Main'].isnull())), 'TCPD_Prof_Main'] = 'NOTA'"
   ]
  },
  {
   "cell_type": "code",
   "execution_count": 391,
   "id": "eaa8a604",
   "metadata": {},
   "outputs": [],
   "source": [
    "df.loc[((df['Candidate'] == 'NOTA') & (df['MyNeta_education'].isnull())), 'MyNeta_education'] = 'NOTA'"
   ]
  },
  {
   "cell_type": "markdown",
   "id": "c3c372ce",
   "metadata": {},
   "source": [
    "Now, Lets fill all the other values as 'unknown'"
   ]
  },
  {
   "cell_type": "code",
   "execution_count": 396,
   "id": "7672adf0",
   "metadata": {},
   "outputs": [],
   "source": [
    "df.loc[(df['MyNeta_education'].isnull()), 'MyNeta_education'] = 'unknown'"
   ]
  },
  {
   "cell_type": "code",
   "execution_count": 397,
   "id": "f9ed441e",
   "metadata": {},
   "outputs": [],
   "source": [
    "df.loc[(df['TCPD_Prof_Main'].isnull()), 'TCPD_Prof_Main'] = 'unknown'"
   ]
  },
  {
   "cell_type": "markdown",
   "id": "4dc40c7e",
   "metadata": {},
   "source": [
    "Now, lets review all the missing values one last time before we proceed."
   ]
  },
  {
   "cell_type": "code",
   "execution_count": 398,
   "id": "ce7111a7",
   "metadata": {},
   "outputs": [
    {
     "data": {
      "text/plain": [
       "State_Name                 0\n",
       "Constituency_No            0\n",
       "Poll_No                    0\n",
       "Position                   0\n",
       "Candidate                  0\n",
       "Sex                        0\n",
       "Party                      0\n",
       "Votes                      0\n",
       "Candidate_Type             0\n",
       "Valid_Votes                0\n",
       "Electors                   0\n",
       "Constituency_Name          0\n",
       "Constituency_Type          0\n",
       "N_Cand                     0\n",
       "Turnout_Percentage         0\n",
       "Vote_Share_Percentage      0\n",
       "Deposit_Lost               0\n",
       "Margin                     0\n",
       "Margin_Percentage          0\n",
       "ENOP                       0\n",
       "pid                        0\n",
       "Party_Type_TCPD            0\n",
       "Party_ID                  17\n",
       "last_poll                  0\n",
       "Contested                  0\n",
       "Last_Party                 0\n",
       "Last_Party_ID              2\n",
       "Last_Constituency_Name     0\n",
       "Same_Constituency          0\n",
       "Same_Party                 0\n",
       "No_Terms                   0\n",
       "Turncoat                   0\n",
       "Incumbent                  0\n",
       "Recontest                  0\n",
       "MyNeta_education           0\n",
       "TCPD_Prof_Main             0\n",
       "dtype: int64"
      ]
     },
     "execution_count": 398,
     "metadata": {},
     "output_type": "execute_result"
    }
   ],
   "source": [
    "df.isnull().sum()"
   ]
  },
  {
   "cell_type": "markdown",
   "id": "7b8a7b76",
   "metadata": {},
   "source": [
    "### Last_Party_ID and Party_ID"
   ]
  },
  {
   "cell_type": "markdown",
   "id": "3dad20d1",
   "metadata": {},
   "source": [
    "Our Qualitiative Analysis Will NOT be affected much by Party_ID or Last_Party_ID anyways because for a single election, the party names are unique and can be used as identifiers"
   ]
  },
  {
   "cell_type": "markdown",
   "id": "19b83820",
   "metadata": {},
   "source": [
    "# 4. Exploratory Data Analysis"
   ]
  },
  {
   "cell_type": "markdown",
   "id": "d15cf4d0",
   "metadata": {},
   "source": [
    "Finally after a lot of work, we have reached here. We have made the data a bit more suitable for analysis and can now Proceed"
   ]
  },
  {
   "cell_type": "markdown",
   "id": "d0374c5d",
   "metadata": {},
   "source": [
    "## Broad Categories"
   ]
  },
  {
   "cell_type": "markdown",
   "id": "2fecda68",
   "metadata": {},
   "source": [
    "<p> We will be performing various analysis, but lets try to classify them broadly.</p>\n",
    "<ol>\n",
    "    <li>Winner  Analysis</li>\n",
    "     <li>State-Wise Analysis</li>\n",
    "     <li>Overall Analysis</li>\n",
    "</ol>"
   ]
  },
  {
   "cell_type": "markdown",
   "id": "d266067e",
   "metadata": {},
   "source": [
    "</p>This part often involves asking a lot of questions, so lets take each category and ask a lot of questions.</p>\n",
    "</p> We will try to keep our code clean by making use of good programming practices like classes, functions and refactoring.</p>"
   ]
  },
  {
   "cell_type": "markdown",
   "id": "afdef223",
   "metadata": {},
   "source": [
    "## Winner Analysis"
   ]
  },
  {
   "cell_type": "code",
   "execution_count": 434,
   "id": "da1a9136",
   "metadata": {},
   "outputs": [],
   "source": [
    "winner_data = df[df['Position'] == 1]"
   ]
  },
  {
   "cell_type": "code",
   "execution_count": 422,
   "id": "75dad29e",
   "metadata": {},
   "outputs": [
    {
     "data": {
      "text/plain": [
       "545"
      ]
     },
     "execution_count": 422,
     "metadata": {},
     "output_type": "execute_result"
    }
   ],
   "source": [
    "winner_data.shape[0]"
   ]
  },
  {
   "cell_type": "markdown",
   "id": "c465d607",
   "metadata": {},
   "source": [
    "### What is the gender of the winners ?"
   ]
  },
  {
   "cell_type": "code",
   "execution_count": 428,
   "id": "9a94e92b",
   "metadata": {},
   "outputs": [],
   "source": [
    "winner_sex = winner_data['Sex'].unique()"
   ]
  },
  {
   "cell_type": "code",
   "execution_count": 429,
   "id": "927bc476",
   "metadata": {},
   "outputs": [
    {
     "data": {
      "text/plain": [
       "array(['M', 'F', 'MALE'], dtype=object)"
      ]
     },
     "execution_count": 429,
     "metadata": {},
     "output_type": "execute_result"
    }
   ],
   "source": [
    "winner_sex"
   ]
  },
  {
   "cell_type": "markdown",
   "id": "99cb49d1",
   "metadata": {},
   "source": [
    "Let us go and replace 'MALE' with M in the original data"
   ]
  },
  {
   "cell_type": "code",
   "execution_count": 432,
   "id": "942ac6ef",
   "metadata": {},
   "outputs": [],
   "source": [
    "df.loc[(df['Sex'] == 'MALE'), 'Sex'] = 'M'"
   ]
  },
  {
   "cell_type": "code",
   "execution_count": 435,
   "id": "38c4f9b9",
   "metadata": {},
   "outputs": [
    {
     "data": {
      "text/plain": [
       "array(['M', 'F'], dtype=object)"
      ]
     },
     "execution_count": 435,
     "metadata": {},
     "output_type": "execute_result"
    }
   ],
   "source": [
    "winner_sex = winner_data['Sex'].unique()\n",
    "winner_sex"
   ]
  },
  {
   "cell_type": "code",
   "execution_count": 441,
   "id": "adcc5690",
   "metadata": {},
   "outputs": [
    {
     "data": {
      "text/plain": [
       "M    467\n",
       "F     78\n",
       "Name: Sex, dtype: int64"
      ]
     },
     "execution_count": 441,
     "metadata": {},
     "output_type": "execute_result"
    }
   ],
   "source": [
    " winner_sex_count = winner_data['Sex'].value_counts()"
   ]
  },
  {
   "cell_type": "code",
   "execution_count": 452,
   "id": "e15cdee9",
   "metadata": {},
   "outputs": [
    {
     "data": {
      "image/png": "[encoded data removed]",
      "text/plain": [
       "<Figure size 1400x600 with 1 Axes>"
      ]
     },
     "metadata": {},
     "output_type": "display_data"
    }
   ],
   "source": [
    "plt.pie( x = winner_sex_count, labels = winner_sex, autopct = '%0.1f')\n",
    "plt.show()"
   ]
  },
  {
   "cell_type": "markdown",
   "id": "f63eca28",
   "metadata": {},
   "source": [
    "### How many winners were contesting for the first time ?"
   ]
  },
  {
   "cell_type": "code",
   "execution_count": 475,
   "id": "788fe9bf",
   "metadata": {},
   "outputs": [
    {
     "data": {
      "image/png": "[encoded data removed]",
      "text/plain": [
       "<Figure size 1400x600 with 1 Axes>"
      ]
     },
     "metadata": {},
     "output_type": "display_data"
    }
   ],
   "source": [
    "sns.set_theme(style = 'darkgrid')\n",
    "sns.countplot( data = winner_data, x = 'Contested', hue = 'Sex')\n",
    "plt.show()"
   ]
  },
  {
   "cell_type": "markdown",
   "id": "c84904d5",
   "metadata": {},
   "source": [
    " Most Number of winners were contesting for the first time ever. This shows people really want to see new faces in politics"
   ]
  },
  {
   "cell_type": "markdown",
   "id": "a2a9f7fc",
   "metadata": {},
   "source": [
    "Also, No contesting women had contested more than 5 times before. Although thats a lot of years, still men have the edge\n"
   ]
  },
  {
   "cell_type": "markdown",
   "id": "0b1c9baf",
   "metadata": {},
   "source": [
    "### How many winners were loyal to their previous party and how many were turncoats ?"
   ]
  },
  {
   "cell_type": "code",
   "execution_count": 501,
   "id": "2931142b",
   "metadata": {},
   "outputs": [],
   "source": [
    "same_party = winner_data['Same_Party'].value_counts()"
   ]
  },
  {
   "cell_type": "code",
   "execution_count": 502,
   "id": "7367e5e5",
   "metadata": {},
   "outputs": [
    {
     "data": {
      "image/png": "[encoded data removed]",
      "text/plain": [
       "<Figure size 1400x600 with 1 Axes>"
      ]
     },
     "metadata": {},
     "output_type": "display_data"
    }
   ],
   "source": [
    "plt.pie( x = same_party, labels = ['YES', 'FIRST ELECTION', 'NO'], autopct = '%0.1f')\n",
    "plt.title('Did They Stay with their parties?')\n",
    "plt.show()"
   ]
  },
  {
   "cell_type": "code",
   "execution_count": 510,
   "id": "97b0125a",
   "metadata": {},
   "outputs": [
    {
     "data": {
      "text/plain": [
       "29"
      ]
     },
     "execution_count": 510,
     "metadata": {},
     "output_type": "execute_result"
    }
   ],
   "source": [
    "winner_data[winner_data['Turncoat'] == True].shape[0]"
   ]
  },
  {
   "cell_type": "code",
   "execution_count": 511,
   "id": "1992a3cc",
   "metadata": {},
   "outputs": [
    {
     "data": {
      "text/plain": [
       "195"
      ]
     },
     "execution_count": 511,
     "metadata": {},
     "output_type": "execute_result"
    }
   ],
   "source": [
    "df[df['Turncoat'] == True].shape[0]"
   ]
  },
  {
   "cell_type": "markdown",
   "id": "061b9b10",
   "metadata": {},
   "source": [
    "Only 29 out of 195 Turncoats won."
   ]
  },
  {
   "cell_type": "markdown",
   "id": "2ea2a412",
   "metadata": {},
   "source": [
    "### What Professions are the winners involved in ?"
   ]
  },
  {
   "cell_type": "code",
   "execution_count": 516,
   "id": "156671a6",
   "metadata": {},
   "outputs": [
    {
     "name": "stdout",
     "output_type": "stream",
     "text": [
      "Business\n",
      "Social Work\n",
      "Politics\n",
      "Liberal Profession or Professional\n",
      "Other\n"
     ]
    }
   ],
   "source": [
    "winner_professions = winner_data['TCPD_Prof_Main'].unique()[:5]\n",
    "for profession in winner_professions:\n",
    "    print(profession)"
   ]
  },
  {
   "cell_type": "markdown",
   "id": "b83d8341",
   "metadata": {},
   "source": [
    "These are the top 5 Professions. Now lets visualize the educational qualifications of our winners"
   ]
  },
  {
   "cell_type": "markdown",
   "id": "12fa3a10",
   "metadata": {},
   "source": [
    "### What are the educational qualifications of our representatives?"
   ]
  },
  {
   "cell_type": "code",
   "execution_count": 531,
   "id": "a8be4ff9",
   "metadata": {},
   "outputs": [
    {
     "data": {
      "image/png": "[encoded data removed]",
      "text/plain": [
       "<Figure size 1400x600 with 1 Axes>"
      ]
     },
     "metadata": {},
     "output_type": "display_data"
    }
   ],
   "source": [
    "winner_degrees = winner_data['MyNeta_education'].unique()\n",
    "winner_degree_counts = winner_data['MyNeta_education'].value_counts()\n",
    "plt.pie( x = winner_degree_counts, labels = winner_degrees, autopct = '%0.1f')\n",
    "plt.title(\"How educated are our representatives?\")\n",
    "plt.show()"
   ]
  },
  {
   "cell_type": "markdown",
   "id": "e827b072",
   "metadata": {},
   "source": [
    "More than 65% of our representatives are graduate, or more qualified.This is actually a positive sign, as educated politicians are a very big factor towards a country's development."
   ]
  },
  {
   "cell_type": "markdown",
   "id": "a928bc35",
   "metadata": {},
   "source": [
    "### Do we really need reservations here?"
   ]
  },
  {
   "cell_type": "markdown",
   "id": "52d138d2",
   "metadata": {},
   "source": [
    "We will see how successful are SC and ST candidates on General Seats."
   ]
  },
  {
   "cell_type": "code",
   "execution_count": 545,
   "id": "bb064545",
   "metadata": {},
   "outputs": [
    {
     "data": {
      "image/png": "[encoded data removed]",
      "text/plain": [
       "<Figure size 1400x600 with 1 Axes>"
      ]
     },
     "metadata": {},
     "output_type": "display_data"
    }
   ],
   "source": [
    "sns.countplot( data = winner_data, x = 'Constituency_Type', hue = 'Candidate_Type')\n",
    "plt.xlabel('Seat Type')\n",
    "plt.ylabel('Category Representation')\n",
    "plt.show()"
   ]
  },
  {
   "cell_type": "markdown",
   "id": "a0e6598f",
   "metadata": {},
   "source": [
    "Clearly, SC/ST winners on general seatsis nearly neglegible. Even if all unknowns were reserved, that would still not make the right proportion."
   ]
  },
  {
   "cell_type": "markdown",
   "id": "b4faaa42",
   "metadata": {},
   "source": [
    "### What does the distribution of Vote Share Percentage of winners look like?"
   ]
  },
  {
   "cell_type": "code",
   "execution_count": 549,
   "id": "b00ca0e1",
   "metadata": {},
   "outputs": [
    {
     "data": {
      "image/png": "[encoded data removed]",
      "text/plain": [
       "<Figure size 1400x600 with 1 Axes>"
      ]
     },
     "metadata": {},
     "output_type": "display_data"
    }
   ],
   "source": [
    "sns.kdeplot( x = winner_data['Vote_Share_Percentage'])\n",
    "plt.show()"
   ]
  },
  {
   "cell_type": "code",
   "execution_count": 550,
   "id": "884ef8ee",
   "metadata": {},
   "outputs": [
    {
     "data": {
      "text/plain": [
       "0.03433901421666577"
      ]
     },
     "execution_count": 550,
     "metadata": {},
     "output_type": "execute_result"
    }
   ],
   "source": [
    "winner_data['Vote_Share_Percentage'].skew()"
   ]
  },
  {
   "cell_type": "markdown",
   "id": "a48a8eaa",
   "metadata": {},
   "source": [
    "Like all good things in nature, it is almost normally distributed"
   ]
  },
  {
   "cell_type": "markdown",
   "id": "92fe025d",
   "metadata": {},
   "source": [
    "### What was the most convincing win and who had the lowest public support among winners ?"
   ]
  },
  {
   "cell_type": "code",
   "execution_count": 553,
   "id": "2a8b5fe7",
   "metadata": {},
   "outputs": [
    {
     "data": {
      "text/plain": [
       "count    545.000000\n",
       "mean      52.495284\n",
       "std        7.718677\n",
       "min       29.290000\n",
       "25%       47.290000\n",
       "50%       52.270000\n",
       "75%       57.210000\n",
       "max       74.470000\n",
       "Name: Vote_Share_Percentage, dtype: float64"
      ]
     },
     "execution_count": 553,
     "metadata": {},
     "output_type": "execute_result"
    }
   ],
   "source": [
    "winner_data['Vote_Share_Percentage'].describe()"
   ]
  },
  {
   "cell_type": "code",
   "execution_count": 558,
   "id": "9e3b7fd3",
   "metadata": {},
   "outputs": [
    {
     "data": {
      "image/png": "[encoded data removed]",
      "text/plain": [
       "<Figure size 1400x600 with 1 Axes>"
      ]
     },
     "metadata": {},
     "output_type": "display_data"
    }
   ],
   "source": [
    "sns.boxplot( y = winner_data['Vote_Share_Percentage'] )\n",
    "plt.show()"
   ]
  },
  {
   "cell_type": "code",
   "execution_count": 560,
   "id": "1e0c838d",
   "metadata": {},
   "outputs": [
    {
     "data": {
      "text/html": [
       "<div>\n",
       "<style scoped>\n",
       "    .dataframe tbody tr th:only-of-type {\n",
       "        vertical-align: middle;\n",
       "    }\n",
       "\n",
       "    .dataframe tbody tr th {\n",
       "        vertical-align: top;\n",
       "    }\n",
       "\n",
       "    .dataframe thead th {\n",
       "        text-align: right;\n",
       "    }\n",
       "</style>\n",
       "<table border=\"1\" class=\"dataframe\">\n",
       "  <thead>\n",
       "    <tr style=\"text-align: right;\">\n",
       "      <th></th>\n",
       "      <th>State_Name</th>\n",
       "      <th>Constituency_No</th>\n",
       "      <th>Poll_No</th>\n",
       "      <th>Position</th>\n",
       "      <th>Candidate</th>\n",
       "      <th>Sex</th>\n",
       "      <th>Party</th>\n",
       "      <th>Votes</th>\n",
       "      <th>Candidate_Type</th>\n",
       "      <th>Valid_Votes</th>\n",
       "      <th>...</th>\n",
       "      <th>Last_Party_ID</th>\n",
       "      <th>Last_Constituency_Name</th>\n",
       "      <th>Same_Constituency</th>\n",
       "      <th>Same_Party</th>\n",
       "      <th>No_Terms</th>\n",
       "      <th>Turncoat</th>\n",
       "      <th>Incumbent</th>\n",
       "      <th>Recontest</th>\n",
       "      <th>MyNeta_education</th>\n",
       "      <th>TCPD_Prof_Main</th>\n",
       "    </tr>\n",
       "  </thead>\n",
       "  <tbody>\n",
       "    <tr>\n",
       "      <th>1962</th>\n",
       "      <td>Gujarat</td>\n",
       "      <td>24</td>\n",
       "      <td>0</td>\n",
       "      <td>1</td>\n",
       "      <td>Darshana Vikram Jardosh</td>\n",
       "      <td>F</td>\n",
       "      <td>BJP</td>\n",
       "      <td>795651.0</td>\n",
       "      <td>GEN</td>\n",
       "      <td>1068412</td>\n",
       "      <td>...</td>\n",
       "      <td>1605.0</td>\n",
       "      <td>SURAT</td>\n",
       "      <td>True</td>\n",
       "      <td>True</td>\n",
       "      <td>3.0</td>\n",
       "      <td>False</td>\n",
       "      <td>True</td>\n",
       "      <td>True</td>\n",
       "      <td>Graduate</td>\n",
       "      <td>Social Work</td>\n",
       "    </tr>\n",
       "  </tbody>\n",
       "</table>\n",
       "<p>1 rows × 36 columns</p>\n",
       "</div>"
      ],
      "text/plain": [
       "     State_Name  Constituency_No  Poll_No  Position                Candidate  \\\n",
       "1962    Gujarat               24        0         1  Darshana Vikram Jardosh   \n",
       "\n",
       "     Sex Party     Votes Candidate_Type  Valid_Votes  ...  Last_Party_ID  \\\n",
       "1962   F   BJP  795651.0            GEN      1068412  ...         1605.0   \n",
       "\n",
       "     Last_Constituency_Name Same_Constituency  Same_Party  No_Terms  Turncoat  \\\n",
       "1962                  SURAT              True        True       3.0     False   \n",
       "\n",
       "     Incumbent  Recontest  MyNeta_education  TCPD_Prof_Main  \n",
       "1962      True       True          Graduate     Social Work  \n",
       "\n",
       "[1 rows x 36 columns]"
      ]
     },
     "execution_count": 560,
     "metadata": {},
     "output_type": "execute_result"
    }
   ],
   "source": [
    "winner_data[winner_data['Vote_Share_Percentage']==74.47]"
   ]
  },
  {
   "cell_type": "markdown",
   "id": "6354f244",
   "metadata": {},
   "source": [
    "This extraordinary feat was achieved by Darshana Vikram Jardosh of BJP in Surat. This was her 3rd win, and she was also incumbent at the time of elections."
   ]
  },
  {
   "cell_type": "code",
   "execution_count": 561,
   "id": "67e37ebe",
   "metadata": {},
   "outputs": [
    {
     "data": {
      "text/html": [
       "<div>\n",
       "<style scoped>\n",
       "    .dataframe tbody tr th:only-of-type {\n",
       "        vertical-align: middle;\n",
       "    }\n",
       "\n",
       "    .dataframe tbody tr th {\n",
       "        vertical-align: top;\n",
       "    }\n",
       "\n",
       "    .dataframe thead th {\n",
       "        text-align: right;\n",
       "    }\n",
       "</style>\n",
       "<table border=\"1\" class=\"dataframe\">\n",
       "  <thead>\n",
       "    <tr style=\"text-align: right;\">\n",
       "      <th></th>\n",
       "      <th>State_Name</th>\n",
       "      <th>Constituency_No</th>\n",
       "      <th>Poll_No</th>\n",
       "      <th>Position</th>\n",
       "      <th>Candidate</th>\n",
       "      <th>Sex</th>\n",
       "      <th>Party</th>\n",
       "      <th>Votes</th>\n",
       "      <th>Candidate_Type</th>\n",
       "      <th>Valid_Votes</th>\n",
       "      <th>...</th>\n",
       "      <th>Last_Party_ID</th>\n",
       "      <th>Last_Constituency_Name</th>\n",
       "      <th>Same_Constituency</th>\n",
       "      <th>Same_Party</th>\n",
       "      <th>No_Terms</th>\n",
       "      <th>Turncoat</th>\n",
       "      <th>Incumbent</th>\n",
       "      <th>Recontest</th>\n",
       "      <th>MyNeta_education</th>\n",
       "      <th>TCPD_Prof_Main</th>\n",
       "    </tr>\n",
       "  </thead>\n",
       "  <tbody>\n",
       "    <tr>\n",
       "      <th>2294</th>\n",
       "      <td>Jammu_&amp;_Kashmir</td>\n",
       "      <td>1</td>\n",
       "      <td>0</td>\n",
       "      <td>1</td>\n",
       "      <td>MOHAMMAD AKBAR LONE</td>\n",
       "      <td>M</td>\n",
       "      <td>JKN</td>\n",
       "      <td>133426.0</td>\n",
       "      <td>UNKNOWN</td>\n",
       "      <td>455550</td>\n",
       "      <td>...</td>\n",
       "      <td>NA</td>\n",
       "      <td>NA</td>\n",
       "      <td>NA</td>\n",
       "      <td>NA</td>\n",
       "      <td>1.0</td>\n",
       "      <td>False</td>\n",
       "      <td>False</td>\n",
       "      <td>False</td>\n",
       "      <td>Graduate Professional</td>\n",
       "      <td>Liberal Profession or Professional</td>\n",
       "    </tr>\n",
       "  </tbody>\n",
       "</table>\n",
       "<p>1 rows × 36 columns</p>\n",
       "</div>"
      ],
      "text/plain": [
       "           State_Name  Constituency_No  Poll_No  Position  \\\n",
       "2294  Jammu_&_Kashmir                1        0         1   \n",
       "\n",
       "                Candidate Sex Party     Votes Candidate_Type  Valid_Votes  \\\n",
       "2294  MOHAMMAD AKBAR LONE   M   JKN  133426.0        UNKNOWN       455550   \n",
       "\n",
       "      ...  Last_Party_ID Last_Constituency_Name Same_Constituency  Same_Party  \\\n",
       "2294  ...             NA                     NA                NA          NA   \n",
       "\n",
       "      No_Terms  Turncoat Incumbent  Recontest       MyNeta_education  \\\n",
       "2294       1.0     False     False      False  Graduate Professional   \n",
       "\n",
       "                          TCPD_Prof_Main  \n",
       "2294  Liberal Profession or Professional  \n",
       "\n",
       "[1 rows x 36 columns]"
      ]
     },
     "execution_count": 561,
     "metadata": {},
     "output_type": "execute_result"
    }
   ],
   "source": [
    "winner_data[winner_data['Vote_Share_Percentage']==29.29]"
   ]
  },
  {
   "cell_type": "markdown",
   "id": "8b941e3f",
   "metadata": {},
   "source": [
    "On the Other hand, Mohammad Akbar Lone of the JKN barely got by. But we should not be too harsh on him, it was his first election"
   ]
  },
  {
   "cell_type": "markdown",
   "id": "d669f163",
   "metadata": {},
   "source": [
    "### Who had enough courage to go to a different constituency and win the election ? "
   ]
  },
  {
   "cell_type": "code",
   "execution_count": 563,
   "id": "0cb17404",
   "metadata": {},
   "outputs": [
    {
     "data": {
      "text/html": [
       "<div>\n",
       "<style scoped>\n",
       "    .dataframe tbody tr th:only-of-type {\n",
       "        vertical-align: middle;\n",
       "    }\n",
       "\n",
       "    .dataframe tbody tr th {\n",
       "        vertical-align: top;\n",
       "    }\n",
       "\n",
       "    .dataframe thead th {\n",
       "        text-align: right;\n",
       "    }\n",
       "</style>\n",
       "<table border=\"1\" class=\"dataframe\">\n",
       "  <thead>\n",
       "    <tr style=\"text-align: right;\">\n",
       "      <th></th>\n",
       "      <th>State_Name</th>\n",
       "      <th>Constituency_No</th>\n",
       "      <th>Poll_No</th>\n",
       "      <th>Position</th>\n",
       "      <th>Candidate</th>\n",
       "      <th>Sex</th>\n",
       "      <th>Party</th>\n",
       "      <th>Votes</th>\n",
       "      <th>Candidate_Type</th>\n",
       "      <th>Valid_Votes</th>\n",
       "      <th>...</th>\n",
       "      <th>Last_Party_ID</th>\n",
       "      <th>Last_Constituency_Name</th>\n",
       "      <th>Same_Constituency</th>\n",
       "      <th>Same_Party</th>\n",
       "      <th>No_Terms</th>\n",
       "      <th>Turncoat</th>\n",
       "      <th>Incumbent</th>\n",
       "      <th>Recontest</th>\n",
       "      <th>MyNeta_education</th>\n",
       "      <th>TCPD_Prof_Main</th>\n",
       "    </tr>\n",
       "  </thead>\n",
       "  <tbody>\n",
       "    <tr>\n",
       "      <th>144</th>\n",
       "      <td>Andhra_Pradesh</td>\n",
       "      <td>11</td>\n",
       "      <td>0</td>\n",
       "      <td>1</td>\n",
       "      <td>BALASHOWRY VALLABHANENI</td>\n",
       "      <td>M</td>\n",
       "      <td>YSRCP</td>\n",
       "      <td>572850.0</td>\n",
       "      <td>GEN</td>\n",
       "      <td>1244570</td>\n",
       "      <td>...</td>\n",
       "      <td>8615.0</td>\n",
       "      <td>GUNTUR</td>\n",
       "      <td>False</td>\n",
       "      <td>True</td>\n",
       "      <td>2.0</td>\n",
       "      <td>False</td>\n",
       "      <td>False</td>\n",
       "      <td>True</td>\n",
       "      <td>Post Graduate</td>\n",
       "      <td>Business</td>\n",
       "    </tr>\n",
       "    <tr>\n",
       "      <th>521</th>\n",
       "      <td>Assam</td>\n",
       "      <td>14</td>\n",
       "      <td>0</td>\n",
       "      <td>1</td>\n",
       "      <td>PRADAN BARUAH</td>\n",
       "      <td>M</td>\n",
       "      <td>BJP</td>\n",
       "      <td>776406.0</td>\n",
       "      <td>UNKNOWN</td>\n",
       "      <td>1283589</td>\n",
       "      <td>...</td>\n",
       "      <td>1605.0</td>\n",
       "      <td>LAKHIMPUR , DISTRICT, LAKHIMPUR</td>\n",
       "      <td>False</td>\n",
       "      <td>True</td>\n",
       "      <td>2.0</td>\n",
       "      <td>False</td>\n",
       "      <td>True</td>\n",
       "      <td>True</td>\n",
       "      <td>12th Pass</td>\n",
       "      <td>Agriculture</td>\n",
       "    </tr>\n",
       "    <tr>\n",
       "      <th>732</th>\n",
       "      <td>Bihar</td>\n",
       "      <td>13</td>\n",
       "      <td>0</td>\n",
       "      <td>1</td>\n",
       "      <td>Dinesh Chandra Yadav</td>\n",
       "      <td>M</td>\n",
       "      <td>JD(U)</td>\n",
       "      <td>624334.0</td>\n",
       "      <td>GEN</td>\n",
       "      <td>1147274</td>\n",
       "      <td>...</td>\n",
       "      <td>11002.0</td>\n",
       "      <td>KHAGARIA</td>\n",
       "      <td>False</td>\n",
       "      <td>True</td>\n",
       "      <td>4.0</td>\n",
       "      <td>False</td>\n",
       "      <td>False</td>\n",
       "      <td>True</td>\n",
       "      <td>Graduate Professional</td>\n",
       "      <td>Retired or Pension</td>\n",
       "    </tr>\n",
       "    <tr>\n",
       "      <th>903</th>\n",
       "      <td>Bihar</td>\n",
       "      <td>24</td>\n",
       "      <td>0</td>\n",
       "      <td>1</td>\n",
       "      <td>Giriraj Singh</td>\n",
       "      <td>M</td>\n",
       "      <td>BJP</td>\n",
       "      <td>692193.0</td>\n",
       "      <td>GEN</td>\n",
       "      <td>1225594</td>\n",
       "      <td>...</td>\n",
       "      <td>1605.0</td>\n",
       "      <td>NAWADA</td>\n",
       "      <td>False</td>\n",
       "      <td>True</td>\n",
       "      <td>2.0</td>\n",
       "      <td>False</td>\n",
       "      <td>True</td>\n",
       "      <td>True</td>\n",
       "      <td>Graduate</td>\n",
       "      <td>Social Work</td>\n",
       "    </tr>\n",
       "    <tr>\n",
       "      <th>1262</th>\n",
       "      <td>Chhattisgarh</td>\n",
       "      <td>3</td>\n",
       "      <td>0</td>\n",
       "      <td>1</td>\n",
       "      <td>GUHARAM AJGALLEY</td>\n",
       "      <td>M</td>\n",
       "      <td>BJP</td>\n",
       "      <td>572790.0</td>\n",
       "      <td>SC</td>\n",
       "      <td>1247650</td>\n",
       "      <td>...</td>\n",
       "      <td>1605.0</td>\n",
       "      <td>SARANGARH</td>\n",
       "      <td>False</td>\n",
       "      <td>True</td>\n",
       "      <td>2.0</td>\n",
       "      <td>False</td>\n",
       "      <td>False</td>\n",
       "      <td>False</td>\n",
       "      <td>Graduate Professional</td>\n",
       "      <td>Politics</td>\n",
       "    </tr>\n",
       "    <tr>\n",
       "      <th>1413</th>\n",
       "      <td>Dadra_&amp;_Nagar_Haveli</td>\n",
       "      <td>1</td>\n",
       "      <td>0</td>\n",
       "      <td>1</td>\n",
       "      <td>DELKAR MOHANBHAI SANJIBHAI</td>\n",
       "      <td>M</td>\n",
       "      <td>IND</td>\n",
       "      <td>90421.0</td>\n",
       "      <td>ST</td>\n",
       "      <td>198983</td>\n",
       "      <td>...</td>\n",
       "      <td>3482.0</td>\n",
       "      <td>DADAR &amp; NAGAR HAVELI</td>\n",
       "      <td>False</td>\n",
       "      <td>False</td>\n",
       "      <td>7.0</td>\n",
       "      <td>False</td>\n",
       "      <td>False</td>\n",
       "      <td>True</td>\n",
       "      <td>Graduate</td>\n",
       "      <td>Politics</td>\n",
       "    </tr>\n",
       "    <tr>\n",
       "      <th>2151</th>\n",
       "      <td>Haryana</td>\n",
       "      <td>7</td>\n",
       "      <td>0</td>\n",
       "      <td>1</td>\n",
       "      <td>ARVIND KUMAR SHARMA</td>\n",
       "      <td>M</td>\n",
       "      <td>BJP</td>\n",
       "      <td>573845.0</td>\n",
       "      <td>GEN</td>\n",
       "      <td>1220571</td>\n",
       "      <td>...</td>\n",
       "      <td>3482.0</td>\n",
       "      <td>KARNAL</td>\n",
       "      <td>False</td>\n",
       "      <td>False</td>\n",
       "      <td>4.0</td>\n",
       "      <td>True</td>\n",
       "      <td>False</td>\n",
       "      <td>True</td>\n",
       "      <td>Post Graduate</td>\n",
       "      <td>Retired or Pension</td>\n",
       "    </tr>\n",
       "    <tr>\n",
       "      <th>2466</th>\n",
       "      <td>Jharkhand</td>\n",
       "      <td>6</td>\n",
       "      <td>0</td>\n",
       "      <td>1</td>\n",
       "      <td>Chandra Prakash Choudhary</td>\n",
       "      <td>M</td>\n",
       "      <td>AJSUP</td>\n",
       "      <td>648277.0</td>\n",
       "      <td>GEN</td>\n",
       "      <td>1106918</td>\n",
       "      <td>...</td>\n",
       "      <td>8958.0</td>\n",
       "      <td>HAZARIBAGH</td>\n",
       "      <td>False</td>\n",
       "      <td>True</td>\n",
       "      <td>1.0</td>\n",
       "      <td>False</td>\n",
       "      <td>False</td>\n",
       "      <td>False</td>\n",
       "      <td>Graduate</td>\n",
       "      <td>Politics</td>\n",
       "    </tr>\n",
       "    <tr>\n",
       "      <th>2558</th>\n",
       "      <td>Jharkhand</td>\n",
       "      <td>11</td>\n",
       "      <td>0</td>\n",
       "      <td>1</td>\n",
       "      <td>ARJUN MUNDA</td>\n",
       "      <td>M</td>\n",
       "      <td>BJP</td>\n",
       "      <td>382638.0</td>\n",
       "      <td>ST</td>\n",
       "      <td>832377</td>\n",
       "      <td>...</td>\n",
       "      <td>1605.0</td>\n",
       "      <td>JAMSHEDPUR</td>\n",
       "      <td>False</td>\n",
       "      <td>True</td>\n",
       "      <td>2.0</td>\n",
       "      <td>False</td>\n",
       "      <td>False</td>\n",
       "      <td>False</td>\n",
       "      <td>12th Pass</td>\n",
       "      <td>Politics</td>\n",
       "    </tr>\n",
       "    <tr>\n",
       "      <th>3152</th>\n",
       "      <td>Kerala</td>\n",
       "      <td>3</td>\n",
       "      <td>0</td>\n",
       "      <td>1</td>\n",
       "      <td>K. MURALEEDHARAN</td>\n",
       "      <td>M</td>\n",
       "      <td>INC</td>\n",
       "      <td>526755.0</td>\n",
       "      <td>GEN</td>\n",
       "      <td>1065619</td>\n",
       "      <td>...</td>\n",
       "      <td>5792.0</td>\n",
       "      <td>WAYANAD</td>\n",
       "      <td>False</td>\n",
       "      <td>False</td>\n",
       "      <td>4.0</td>\n",
       "      <td>True</td>\n",
       "      <td>False</td>\n",
       "      <td>False</td>\n",
       "      <td>Graduate</td>\n",
       "      <td>Politics</td>\n",
       "    </tr>\n",
       "    <tr>\n",
       "      <th>3165</th>\n",
       "      <td>Kerala</td>\n",
       "      <td>4</td>\n",
       "      <td>0</td>\n",
       "      <td>1</td>\n",
       "      <td>Rahul Gandhi</td>\n",
       "      <td>M</td>\n",
       "      <td>INC</td>\n",
       "      <td>706367.0</td>\n",
       "      <td>GEN</td>\n",
       "      <td>1092197</td>\n",
       "      <td>...</td>\n",
       "      <td>3482.0</td>\n",
       "      <td>AMETHI</td>\n",
       "      <td>False</td>\n",
       "      <td>True</td>\n",
       "      <td>4.0</td>\n",
       "      <td>False</td>\n",
       "      <td>True</td>\n",
       "      <td>True</td>\n",
       "      <td>Post Graduate</td>\n",
       "      <td>Politics</td>\n",
       "    </tr>\n",
       "    <tr>\n",
       "      <th>3201</th>\n",
       "      <td>Kerala</td>\n",
       "      <td>6</td>\n",
       "      <td>0</td>\n",
       "      <td>1</td>\n",
       "      <td>P.K. Kunhalikutty</td>\n",
       "      <td>M</td>\n",
       "      <td>IUML</td>\n",
       "      <td>589873.0</td>\n",
       "      <td>UNKNOWN</td>\n",
       "      <td>1034618</td>\n",
       "      <td>...</td>\n",
       "      <td>3952.0</td>\n",
       "      <td>MALAPPURAM , DISTRICT, MALAPPURAM</td>\n",
       "      <td>False</td>\n",
       "      <td>True</td>\n",
       "      <td>2.0</td>\n",
       "      <td>False</td>\n",
       "      <td>True</td>\n",
       "      <td>True</td>\n",
       "      <td>Graduate</td>\n",
       "      <td>Politics</td>\n",
       "    </tr>\n",
       "    <tr>\n",
       "      <th>3249</th>\n",
       "      <td>Kerala</td>\n",
       "      <td>11</td>\n",
       "      <td>0</td>\n",
       "      <td>1</td>\n",
       "      <td>BENNY BEHANAN</td>\n",
       "      <td>M</td>\n",
       "      <td>INC</td>\n",
       "      <td>473444.0</td>\n",
       "      <td>GEN</td>\n",
       "      <td>990224</td>\n",
       "      <td>...</td>\n",
       "      <td>3482.0</td>\n",
       "      <td>IDUKKI</td>\n",
       "      <td>False</td>\n",
       "      <td>True</td>\n",
       "      <td>1.0</td>\n",
       "      <td>False</td>\n",
       "      <td>False</td>\n",
       "      <td>False</td>\n",
       "      <td>Graduate</td>\n",
       "      <td>Social Work</td>\n",
       "    </tr>\n",
       "    <tr>\n",
       "      <th>3382</th>\n",
       "      <td>Madhya_Pradesh</td>\n",
       "      <td>1</td>\n",
       "      <td>0</td>\n",
       "      <td>1</td>\n",
       "      <td>NARENDRA SINGH TOMAR</td>\n",
       "      <td>M</td>\n",
       "      <td>BJP</td>\n",
       "      <td>541689.0</td>\n",
       "      <td>GEN</td>\n",
       "      <td>1137290</td>\n",
       "      <td>...</td>\n",
       "      <td>1605.0</td>\n",
       "      <td>GWALIOR</td>\n",
       "      <td>False</td>\n",
       "      <td>True</td>\n",
       "      <td>3.0</td>\n",
       "      <td>False</td>\n",
       "      <td>True</td>\n",
       "      <td>True</td>\n",
       "      <td>Graduate</td>\n",
       "      <td>Social Work</td>\n",
       "    </tr>\n",
       "    <tr>\n",
       "      <th>4808</th>\n",
       "      <td>Odisha</td>\n",
       "      <td>1</td>\n",
       "      <td>0</td>\n",
       "      <td>1</td>\n",
       "      <td>Suresh Pujari</td>\n",
       "      <td>M</td>\n",
       "      <td>BJP</td>\n",
       "      <td>581245.0</td>\n",
       "      <td>GEN</td>\n",
       "      <td>1247912</td>\n",
       "      <td>...</td>\n",
       "      <td>1605.0</td>\n",
       "      <td>SAMBALPUR</td>\n",
       "      <td>False</td>\n",
       "      <td>True</td>\n",
       "      <td>1.0</td>\n",
       "      <td>False</td>\n",
       "      <td>False</td>\n",
       "      <td>True</td>\n",
       "      <td>Post Graduate</td>\n",
       "      <td>Liberal Profession or Professional</td>\n",
       "    </tr>\n",
       "    <tr>\n",
       "      <th>5118</th>\n",
       "      <td>Punjab</td>\n",
       "      <td>6</td>\n",
       "      <td>0</td>\n",
       "      <td>1</td>\n",
       "      <td>Manish Tewari</td>\n",
       "      <td>M</td>\n",
       "      <td>INC</td>\n",
       "      <td>428045.0</td>\n",
       "      <td>GEN</td>\n",
       "      <td>1081727</td>\n",
       "      <td>...</td>\n",
       "      <td>3482.0</td>\n",
       "      <td>LUDHIANA</td>\n",
       "      <td>False</td>\n",
       "      <td>True</td>\n",
       "      <td>2.0</td>\n",
       "      <td>False</td>\n",
       "      <td>False</td>\n",
       "      <td>False</td>\n",
       "      <td>Graduate Professional</td>\n",
       "      <td>Liberal Profession or Professional</td>\n",
       "    </tr>\n",
       "    <tr>\n",
       "      <th>5210</th>\n",
       "      <td>Punjab</td>\n",
       "      <td>10</td>\n",
       "      <td>0</td>\n",
       "      <td>1</td>\n",
       "      <td>SUKHBIR SINGH BADAL</td>\n",
       "      <td>M</td>\n",
       "      <td>SAD</td>\n",
       "      <td>633427.0</td>\n",
       "      <td>GEN</td>\n",
       "      <td>1172033</td>\n",
       "      <td>...</td>\n",
       "      <td>16994.0</td>\n",
       "      <td>FARIDKOT</td>\n",
       "      <td>False</td>\n",
       "      <td>True</td>\n",
       "      <td>4.0</td>\n",
       "      <td>False</td>\n",
       "      <td>False</td>\n",
       "      <td>False</td>\n",
       "      <td>Post Graduate</td>\n",
       "      <td>Politics</td>\n",
       "    </tr>\n",
       "    <tr>\n",
       "      <th>5323</th>\n",
       "      <td>Rajasthan</td>\n",
       "      <td>2</td>\n",
       "      <td>0</td>\n",
       "      <td>1</td>\n",
       "      <td>ARJUN RAM MEGHWAL</td>\n",
       "      <td>M</td>\n",
       "      <td>BJP</td>\n",
       "      <td>657743.0</td>\n",
       "      <td>SC</td>\n",
       "      <td>1099598</td>\n",
       "      <td>...</td>\n",
       "      <td>1605.0</td>\n",
       "      <td>BIKANER</td>\n",
       "      <td>False</td>\n",
       "      <td>True</td>\n",
       "      <td>3.0</td>\n",
       "      <td>False</td>\n",
       "      <td>True</td>\n",
       "      <td>True</td>\n",
       "      <td>Post Graduate</td>\n",
       "      <td>Business</td>\n",
       "    </tr>\n",
       "    <tr>\n",
       "      <th>5433</th>\n",
       "      <td>Rajasthan</td>\n",
       "      <td>11</td>\n",
       "      <td>0</td>\n",
       "      <td>1</td>\n",
       "      <td>Jaskaur Meena</td>\n",
       "      <td>F</td>\n",
       "      <td>BJP</td>\n",
       "      <td>548733.0</td>\n",
       "      <td>ST</td>\n",
       "      <td>1062834</td>\n",
       "      <td>...</td>\n",
       "      <td>1605.0</td>\n",
       "      <td>SAWAI MADHOPUR</td>\n",
       "      <td>False</td>\n",
       "      <td>True</td>\n",
       "      <td>2.0</td>\n",
       "      <td>False</td>\n",
       "      <td>False</td>\n",
       "      <td>False</td>\n",
       "      <td>Post Graduate</td>\n",
       "      <td>Business</td>\n",
       "    </tr>\n",
       "    <tr>\n",
       "      <th>5599</th>\n",
       "      <td>Tamil_Nadu</td>\n",
       "      <td>1</td>\n",
       "      <td>0</td>\n",
       "      <td>1</td>\n",
       "      <td>Dr.K.Jayakumar</td>\n",
       "      <td>M</td>\n",
       "      <td>INC</td>\n",
       "      <td>767292.0</td>\n",
       "      <td>SC</td>\n",
       "      <td>1408189</td>\n",
       "      <td>...</td>\n",
       "      <td>3482.0</td>\n",
       "      <td>TENKASI</td>\n",
       "      <td>False</td>\n",
       "      <td>True</td>\n",
       "      <td>1.0</td>\n",
       "      <td>False</td>\n",
       "      <td>False</td>\n",
       "      <td>True</td>\n",
       "      <td>Doctorate</td>\n",
       "      <td>Agriculture</td>\n",
       "    </tr>\n",
       "    <tr>\n",
       "      <th>5717</th>\n",
       "      <td>Tamil_Nadu</td>\n",
       "      <td>5</td>\n",
       "      <td>0</td>\n",
       "      <td>1</td>\n",
       "      <td>Baalu.T.R.</td>\n",
       "      <td>M</td>\n",
       "      <td>DMK</td>\n",
       "      <td>793281.0</td>\n",
       "      <td>GEN</td>\n",
       "      <td>1406782</td>\n",
       "      <td>...</td>\n",
       "      <td>10192.0</td>\n",
       "      <td>THANJAVUR</td>\n",
       "      <td>False</td>\n",
       "      <td>True</td>\n",
       "      <td>6.0</td>\n",
       "      <td>False</td>\n",
       "      <td>False</td>\n",
       "      <td>True</td>\n",
       "      <td>Graduate</td>\n",
       "      <td>Social Work</td>\n",
       "    </tr>\n",
       "    <tr>\n",
       "      <th>5749</th>\n",
       "      <td>Tamil_Nadu</td>\n",
       "      <td>7</td>\n",
       "      <td>0</td>\n",
       "      <td>1</td>\n",
       "      <td>S. JAGATHRAKSHAKAN</td>\n",
       "      <td>M</td>\n",
       "      <td>DMK</td>\n",
       "      <td>672190.0</td>\n",
       "      <td>GEN</td>\n",
       "      <td>1178060</td>\n",
       "      <td>...</td>\n",
       "      <td>10192.0</td>\n",
       "      <td>SRIPERUMBUDUR</td>\n",
       "      <td>False</td>\n",
       "      <td>True</td>\n",
       "      <td>4.0</td>\n",
       "      <td>False</td>\n",
       "      <td>False</td>\n",
       "      <td>True</td>\n",
       "      <td>10th Pass</td>\n",
       "      <td>Business</td>\n",
       "    </tr>\n",
       "    <tr>\n",
       "      <th>5871</th>\n",
       "      <td>Tamil_Nadu</td>\n",
       "      <td>13</td>\n",
       "      <td>0</td>\n",
       "      <td>1</td>\n",
       "      <td>RAVIKUMAR D</td>\n",
       "      <td>M</td>\n",
       "      <td>DMK</td>\n",
       "      <td>559585.0</td>\n",
       "      <td>SC</td>\n",
       "      <td>1135540</td>\n",
       "      <td>...</td>\n",
       "      <td>8488.0</td>\n",
       "      <td>THIRUVALLUR</td>\n",
       "      <td>False</td>\n",
       "      <td>False</td>\n",
       "      <td>1.0</td>\n",
       "      <td>True</td>\n",
       "      <td>False</td>\n",
       "      <td>True</td>\n",
       "      <td>Doctorate</td>\n",
       "      <td>Liberal Profession or Professional</td>\n",
       "    </tr>\n",
       "    <tr>\n",
       "      <th>6103</th>\n",
       "      <td>Tamil_Nadu</td>\n",
       "      <td>24</td>\n",
       "      <td>0</td>\n",
       "      <td>1</td>\n",
       "      <td>Thirunavukkarasar. SU</td>\n",
       "      <td>M</td>\n",
       "      <td>INC</td>\n",
       "      <td>621285.0</td>\n",
       "      <td>GEN</td>\n",
       "      <td>1048062</td>\n",
       "      <td>...</td>\n",
       "      <td>3482.0</td>\n",
       "      <td>RAMANATHAPURAM</td>\n",
       "      <td>False</td>\n",
       "      <td>True</td>\n",
       "      <td>2.0</td>\n",
       "      <td>False</td>\n",
       "      <td>False</td>\n",
       "      <td>True</td>\n",
       "      <td>Post Graduate</td>\n",
       "      <td>Liberal Profession or Professional</td>\n",
       "    </tr>\n",
       "    <tr>\n",
       "      <th>6892</th>\n",
       "      <td>Telangana</td>\n",
       "      <td>15</td>\n",
       "      <td>0</td>\n",
       "      <td>1</td>\n",
       "      <td>DAYAKAR PASUNOORI</td>\n",
       "      <td>M</td>\n",
       "      <td>TRS</td>\n",
       "      <td>612498.0</td>\n",
       "      <td>SC</td>\n",
       "      <td>1061645</td>\n",
       "      <td>...</td>\n",
       "      <td>8284.0</td>\n",
       "      <td>WARANGAL(SC)</td>\n",
       "      <td>False</td>\n",
       "      <td>True</td>\n",
       "      <td>2.0</td>\n",
       "      <td>False</td>\n",
       "      <td>True</td>\n",
       "      <td>True</td>\n",
       "      <td>Graduate</td>\n",
       "      <td>Business</td>\n",
       "    </tr>\n",
       "    <tr>\n",
       "      <th>7182</th>\n",
       "      <td>Uttar_Pradesh</td>\n",
       "      <td>18</td>\n",
       "      <td>0</td>\n",
       "      <td>1</td>\n",
       "      <td>Satyapal Singh Baghel</td>\n",
       "      <td>M</td>\n",
       "      <td>BJP</td>\n",
       "      <td>646875.0</td>\n",
       "      <td>SC</td>\n",
       "      <td>1145323</td>\n",
       "      <td>...</td>\n",
       "      <td>1605.0</td>\n",
       "      <td>FIROZABAD</td>\n",
       "      <td>False</td>\n",
       "      <td>True</td>\n",
       "      <td>4.0</td>\n",
       "      <td>False</td>\n",
       "      <td>False</td>\n",
       "      <td>True</td>\n",
       "      <td>Doctorate</td>\n",
       "      <td>Politics</td>\n",
       "    </tr>\n",
       "    <tr>\n",
       "      <th>7243</th>\n",
       "      <td>Uttar_Pradesh</td>\n",
       "      <td>23</td>\n",
       "      <td>0</td>\n",
       "      <td>1</td>\n",
       "      <td>Dr. Sanghmitra Maurya</td>\n",
       "      <td>F</td>\n",
       "      <td>BJP</td>\n",
       "      <td>511352.0</td>\n",
       "      <td>GEN</td>\n",
       "      <td>1081111</td>\n",
       "      <td>...</td>\n",
       "      <td>16651.0</td>\n",
       "      <td>MAINPURI</td>\n",
       "      <td>False</td>\n",
       "      <td>False</td>\n",
       "      <td>1.0</td>\n",
       "      <td>True</td>\n",
       "      <td>False</td>\n",
       "      <td>False</td>\n",
       "      <td>Graduate Professional</td>\n",
       "      <td>Politics</td>\n",
       "    </tr>\n",
       "    <tr>\n",
       "      <th>7285</th>\n",
       "      <td>Uttar_Pradesh</td>\n",
       "      <td>26</td>\n",
       "      <td>0</td>\n",
       "      <td>1</td>\n",
       "      <td>Feroze Varun Gandhi</td>\n",
       "      <td>M</td>\n",
       "      <td>BJP</td>\n",
       "      <td>704549.0</td>\n",
       "      <td>GEN</td>\n",
       "      <td>1186589</td>\n",
       "      <td>...</td>\n",
       "      <td>1605.0</td>\n",
       "      <td>SULTANPUR</td>\n",
       "      <td>False</td>\n",
       "      <td>True</td>\n",
       "      <td>3.0</td>\n",
       "      <td>False</td>\n",
       "      <td>True</td>\n",
       "      <td>True</td>\n",
       "      <td>Post Graduate</td>\n",
       "      <td>Business</td>\n",
       "    </tr>\n",
       "    <tr>\n",
       "      <th>7352</th>\n",
       "      <td>Uttar_Pradesh</td>\n",
       "      <td>31</td>\n",
       "      <td>0</td>\n",
       "      <td>1</td>\n",
       "      <td>Jai Prakash</td>\n",
       "      <td>M</td>\n",
       "      <td>BJP</td>\n",
       "      <td>568143.0</td>\n",
       "      <td>SC</td>\n",
       "      <td>1057558</td>\n",
       "      <td>...</td>\n",
       "      <td>7425.0</td>\n",
       "      <td>MISRIKH</td>\n",
       "      <td>False</td>\n",
       "      <td>False</td>\n",
       "      <td>5.0</td>\n",
       "      <td>True</td>\n",
       "      <td>False</td>\n",
       "      <td>True</td>\n",
       "      <td>Graduate</td>\n",
       "      <td>Business</td>\n",
       "    </tr>\n",
       "    <tr>\n",
       "      <th>7461</th>\n",
       "      <td>Uttar_Pradesh</td>\n",
       "      <td>38</td>\n",
       "      <td>0</td>\n",
       "      <td>1</td>\n",
       "      <td>MANEKA SANJAI GANDHI</td>\n",
       "      <td>F</td>\n",
       "      <td>BJP</td>\n",
       "      <td>459196.0</td>\n",
       "      <td>GEN</td>\n",
       "      <td>1000316</td>\n",
       "      <td>...</td>\n",
       "      <td>1605.0</td>\n",
       "      <td>PILIBHIT</td>\n",
       "      <td>False</td>\n",
       "      <td>True</td>\n",
       "      <td>8.0</td>\n",
       "      <td>False</td>\n",
       "      <td>True</td>\n",
       "      <td>True</td>\n",
       "      <td>12th Pass</td>\n",
       "      <td>Business</td>\n",
       "    </tr>\n",
       "    <tr>\n",
       "      <th>7496</th>\n",
       "      <td>Uttar_Pradesh</td>\n",
       "      <td>41</td>\n",
       "      <td>0</td>\n",
       "      <td>1</td>\n",
       "      <td>Dr RAM SHANKAR KATHERIA</td>\n",
       "      <td>M</td>\n",
       "      <td>BJP</td>\n",
       "      <td>522119.0</td>\n",
       "      <td>SC</td>\n",
       "      <td>1027815</td>\n",
       "      <td>...</td>\n",
       "      <td>1605.0</td>\n",
       "      <td>AGRA</td>\n",
       "      <td>False</td>\n",
       "      <td>True</td>\n",
       "      <td>3.0</td>\n",
       "      <td>False</td>\n",
       "      <td>True</td>\n",
       "      <td>True</td>\n",
       "      <td>Doctorate</td>\n",
       "      <td>Education</td>\n",
       "    </tr>\n",
       "    <tr>\n",
       "      <th>7632</th>\n",
       "      <td>Uttar_Pradesh</td>\n",
       "      <td>52</td>\n",
       "      <td>0</td>\n",
       "      <td>1</td>\n",
       "      <td>Rita Bahuguna Joshi</td>\n",
       "      <td>F</td>\n",
       "      <td>BJP</td>\n",
       "      <td>494454.0</td>\n",
       "      <td>GEN</td>\n",
       "      <td>889056</td>\n",
       "      <td>...</td>\n",
       "      <td>3482.0</td>\n",
       "      <td>LUCKNOW</td>\n",
       "      <td>False</td>\n",
       "      <td>False</td>\n",
       "      <td>1.0</td>\n",
       "      <td>True</td>\n",
       "      <td>False</td>\n",
       "      <td>True</td>\n",
       "      <td>Doctorate</td>\n",
       "      <td>Retired or Pension</td>\n",
       "    </tr>\n",
       "    <tr>\n",
       "      <th>7761</th>\n",
       "      <td>Uttar_Pradesh</td>\n",
       "      <td>62</td>\n",
       "      <td>0</td>\n",
       "      <td>1</td>\n",
       "      <td>PRAVEEN KUMAR NISHAD</td>\n",
       "      <td>M</td>\n",
       "      <td>BJP</td>\n",
       "      <td>467543.0</td>\n",
       "      <td>GEN</td>\n",
       "      <td>1063390</td>\n",
       "      <td>...</td>\n",
       "      <td>7425.0</td>\n",
       "      <td>GORAKHPUR</td>\n",
       "      <td>False</td>\n",
       "      <td>False</td>\n",
       "      <td>2.0</td>\n",
       "      <td>True</td>\n",
       "      <td>True</td>\n",
       "      <td>True</td>\n",
       "      <td>Graduate Professional</td>\n",
       "      <td>Agriculture</td>\n",
       "    </tr>\n",
       "    <tr>\n",
       "      <th>7843</th>\n",
       "      <td>Uttar_Pradesh</td>\n",
       "      <td>69</td>\n",
       "      <td>0</td>\n",
       "      <td>1</td>\n",
       "      <td>Akhilesh Yadav</td>\n",
       "      <td>M</td>\n",
       "      <td>SP</td>\n",
       "      <td>621578.0</td>\n",
       "      <td>GEN</td>\n",
       "      <td>1029112</td>\n",
       "      <td>...</td>\n",
       "      <td>7425.0</td>\n",
       "      <td>FIROZABAD | KANNAUJ</td>\n",
       "      <td>False</td>\n",
       "      <td>True</td>\n",
       "      <td>5.0</td>\n",
       "      <td>False</td>\n",
       "      <td>False</td>\n",
       "      <td>False</td>\n",
       "      <td>Graduate Professional</td>\n",
       "      <td>Agriculture</td>\n",
       "    </tr>\n",
       "    <tr>\n",
       "      <th>7891</th>\n",
       "      <td>Uttar_Pradesh</td>\n",
       "      <td>72</td>\n",
       "      <td>0</td>\n",
       "      <td>1</td>\n",
       "      <td>Virendra Singh</td>\n",
       "      <td>M</td>\n",
       "      <td>BJP</td>\n",
       "      <td>469114.0</td>\n",
       "      <td>GEN</td>\n",
       "      <td>989732</td>\n",
       "      <td>...</td>\n",
       "      <td>1605.0</td>\n",
       "      <td>BHADOHI</td>\n",
       "      <td>False</td>\n",
       "      <td>True</td>\n",
       "      <td>4.0</td>\n",
       "      <td>False</td>\n",
       "      <td>True</td>\n",
       "      <td>True</td>\n",
       "      <td>Graduate</td>\n",
       "      <td>Agriculture</td>\n",
       "    </tr>\n",
       "    <tr>\n",
       "      <th>7939</th>\n",
       "      <td>Uttar_Pradesh</td>\n",
       "      <td>75</td>\n",
       "      <td>0</td>\n",
       "      <td>1</td>\n",
       "      <td>AFZAL ANSARI</td>\n",
       "      <td>M</td>\n",
       "      <td>BSP</td>\n",
       "      <td>566082.0</td>\n",
       "      <td>UNKNOWN</td>\n",
       "      <td>1105627</td>\n",
       "      <td>...</td>\n",
       "      <td>6306.0</td>\n",
       "      <td>BALLIA</td>\n",
       "      <td>False</td>\n",
       "      <td>False</td>\n",
       "      <td>2.0</td>\n",
       "      <td>True</td>\n",
       "      <td>False</td>\n",
       "      <td>True</td>\n",
       "      <td>Post Graduate</td>\n",
       "      <td>Retired or Pension</td>\n",
       "    </tr>\n",
       "    <tr>\n",
       "      <th>8138</th>\n",
       "      <td>West_Bengal</td>\n",
       "      <td>5</td>\n",
       "      <td>0</td>\n",
       "      <td>1</td>\n",
       "      <td>DEBASREE CHAUDHURI</td>\n",
       "      <td>F</td>\n",
       "      <td>BJP</td>\n",
       "      <td>511652.0</td>\n",
       "      <td>GEN</td>\n",
       "      <td>1277109</td>\n",
       "      <td>...</td>\n",
       "      <td>1605.0</td>\n",
       "      <td>BURDWAN - DURGAPUR</td>\n",
       "      <td>False</td>\n",
       "      <td>True</td>\n",
       "      <td>1.0</td>\n",
       "      <td>False</td>\n",
       "      <td>False</td>\n",
       "      <td>True</td>\n",
       "      <td>Post Graduate</td>\n",
       "      <td>Social Work</td>\n",
       "    </tr>\n",
       "    <tr>\n",
       "      <th>8318</th>\n",
       "      <td>West_Bengal</td>\n",
       "      <td>19</td>\n",
       "      <td>0</td>\n",
       "      <td>1</td>\n",
       "      <td>PRATIMA MONDAL</td>\n",
       "      <td>F</td>\n",
       "      <td>AITC</td>\n",
       "      <td>761202.0</td>\n",
       "      <td>SC</td>\n",
       "      <td>1356102</td>\n",
       "      <td>...</td>\n",
       "      <td>18228.0</td>\n",
       "      <td>JOYNAGAR</td>\n",
       "      <td>False</td>\n",
       "      <td>True</td>\n",
       "      <td>2.0</td>\n",
       "      <td>False</td>\n",
       "      <td>True</td>\n",
       "      <td>True</td>\n",
       "      <td>Post Graduate</td>\n",
       "      <td>Politics</td>\n",
       "    </tr>\n",
       "    <tr>\n",
       "      <th>8461</th>\n",
       "      <td>West_Bengal</td>\n",
       "      <td>30</td>\n",
       "      <td>0</td>\n",
       "      <td>1</td>\n",
       "      <td>Adhikari Dibyendu</td>\n",
       "      <td>M</td>\n",
       "      <td>AITC</td>\n",
       "      <td>724433.0</td>\n",
       "      <td>UNKNOWN</td>\n",
       "      <td>1446499</td>\n",
       "      <td>...</td>\n",
       "      <td>18228.0</td>\n",
       "      <td>TAMLUK(GEN), DISTRICT, PURBA MEDINIPUR</td>\n",
       "      <td>False</td>\n",
       "      <td>True</td>\n",
       "      <td>2.0</td>\n",
       "      <td>False</td>\n",
       "      <td>True</td>\n",
       "      <td>True</td>\n",
       "      <td>Graduate</td>\n",
       "      <td>Business</td>\n",
       "    </tr>\n",
       "    <tr>\n",
       "      <th>8560</th>\n",
       "      <td>West_Bengal</td>\n",
       "      <td>39</td>\n",
       "      <td>0</td>\n",
       "      <td>1</td>\n",
       "      <td>S.S AHLUWALIA</td>\n",
       "      <td>M</td>\n",
       "      <td>BJP</td>\n",
       "      <td>598376.0</td>\n",
       "      <td>UNKNOWN</td>\n",
       "      <td>1433007</td>\n",
       "      <td>...</td>\n",
       "      <td>1605.0</td>\n",
       "      <td>DARJEELING</td>\n",
       "      <td>False</td>\n",
       "      <td>True</td>\n",
       "      <td>2.0</td>\n",
       "      <td>False</td>\n",
       "      <td>True</td>\n",
       "      <td>True</td>\n",
       "      <td>Graduate Professional</td>\n",
       "      <td>Former Government</td>\n",
       "    </tr>\n",
       "  </tbody>\n",
       "</table>\n",
       "<p>40 rows × 36 columns</p>\n",
       "</div>"
      ],
      "text/plain": [
       "                State_Name  Constituency_No  Poll_No  Position  \\\n",
       "144         Andhra_Pradesh               11        0         1   \n",
       "521                  Assam               14        0         1   \n",
       "732                  Bihar               13        0         1   \n",
       "903                  Bihar               24        0         1   \n",
       "1262          Chhattisgarh                3        0         1   \n",
       "1413  Dadra_&_Nagar_Haveli                1        0         1   \n",
       "2151               Haryana                7        0         1   \n",
       "2466             Jharkhand                6        0         1   \n",
       "2558             Jharkhand               11        0         1   \n",
       "3152                Kerala                3        0         1   \n",
       "3165                Kerala                4        0         1   \n",
       "3201                Kerala                6        0         1   \n",
       "3249                Kerala               11        0         1   \n",
       "3382        Madhya_Pradesh                1        0         1   \n",
       "4808                Odisha                1        0         1   \n",
       "5118                Punjab                6        0         1   \n",
       "5210                Punjab               10        0         1   \n",
       "5323             Rajasthan                2        0         1   \n",
       "5433             Rajasthan               11        0         1   \n",
       "5599            Tamil_Nadu                1        0         1   \n",
       "5717            Tamil_Nadu                5        0         1   \n",
       "5749            Tamil_Nadu                7        0         1   \n",
       "5871            Tamil_Nadu               13        0         1   \n",
       "6103            Tamil_Nadu               24        0         1   \n",
       "6892             Telangana               15        0         1   \n",
       "7182         Uttar_Pradesh               18        0         1   \n",
       "7243         Uttar_Pradesh               23        0         1   \n",
       "7285         Uttar_Pradesh               26        0         1   \n",
       "7352         Uttar_Pradesh               31        0         1   \n",
       "7461         Uttar_Pradesh               38        0         1   \n",
       "7496         Uttar_Pradesh               41        0         1   \n",
       "7632         Uttar_Pradesh               52        0         1   \n",
       "7761         Uttar_Pradesh               62        0         1   \n",
       "7843         Uttar_Pradesh               69        0         1   \n",
       "7891         Uttar_Pradesh               72        0         1   \n",
       "7939         Uttar_Pradesh               75        0         1   \n",
       "8138           West_Bengal                5        0         1   \n",
       "8318           West_Bengal               19        0         1   \n",
       "8461           West_Bengal               30        0         1   \n",
       "8560           West_Bengal               39        0         1   \n",
       "\n",
       "                       Candidate Sex  Party     Votes Candidate_Type  \\\n",
       "144      BALASHOWRY VALLABHANENI   M  YSRCP  572850.0            GEN   \n",
       "521                PRADAN BARUAH   M    BJP  776406.0        UNKNOWN   \n",
       "732         Dinesh Chandra Yadav   M  JD(U)  624334.0            GEN   \n",
       "903                Giriraj Singh   M    BJP  692193.0            GEN   \n",
       "1262            GUHARAM AJGALLEY   M    BJP  572790.0             SC   \n",
       "1413  DELKAR MOHANBHAI SANJIBHAI   M    IND   90421.0             ST   \n",
       "2151         ARVIND KUMAR SHARMA   M    BJP  573845.0            GEN   \n",
       "2466   Chandra Prakash Choudhary   M  AJSUP  648277.0            GEN   \n",
       "2558                 ARJUN MUNDA   M    BJP  382638.0             ST   \n",
       "3152            K. MURALEEDHARAN   M    INC  526755.0            GEN   \n",
       "3165                Rahul Gandhi   M    INC  706367.0            GEN   \n",
       "3201           P.K. Kunhalikutty   M   IUML  589873.0        UNKNOWN   \n",
       "3249               BENNY BEHANAN   M    INC  473444.0            GEN   \n",
       "3382        NARENDRA SINGH TOMAR   M    BJP  541689.0            GEN   \n",
       "4808               Suresh Pujari   M    BJP  581245.0            GEN   \n",
       "5118               Manish Tewari   M    INC  428045.0            GEN   \n",
       "5210         SUKHBIR SINGH BADAL   M    SAD  633427.0            GEN   \n",
       "5323           ARJUN RAM MEGHWAL   M    BJP  657743.0             SC   \n",
       "5433               Jaskaur Meena   F    BJP  548733.0             ST   \n",
       "5599              Dr.K.Jayakumar   M    INC  767292.0             SC   \n",
       "5717                  Baalu.T.R.   M    DMK  793281.0            GEN   \n",
       "5749          S. JAGATHRAKSHAKAN   M    DMK  672190.0            GEN   \n",
       "5871                 RAVIKUMAR D   M    DMK  559585.0             SC   \n",
       "6103       Thirunavukkarasar. SU   M    INC  621285.0            GEN   \n",
       "6892           DAYAKAR PASUNOORI   M    TRS  612498.0             SC   \n",
       "7182       Satyapal Singh Baghel   M    BJP  646875.0             SC   \n",
       "7243       Dr. Sanghmitra Maurya   F    BJP  511352.0            GEN   \n",
       "7285         Feroze Varun Gandhi   M    BJP  704549.0            GEN   \n",
       "7352                 Jai Prakash   M    BJP  568143.0             SC   \n",
       "7461        MANEKA SANJAI GANDHI   F    BJP  459196.0            GEN   \n",
       "7496     Dr RAM SHANKAR KATHERIA   M    BJP  522119.0             SC   \n",
       "7632         Rita Bahuguna Joshi   F    BJP  494454.0            GEN   \n",
       "7761        PRAVEEN KUMAR NISHAD   M    BJP  467543.0            GEN   \n",
       "7843              Akhilesh Yadav   M     SP  621578.0            GEN   \n",
       "7891              Virendra Singh   M    BJP  469114.0            GEN   \n",
       "7939                AFZAL ANSARI   M    BSP  566082.0        UNKNOWN   \n",
       "8138          DEBASREE CHAUDHURI   F    BJP  511652.0            GEN   \n",
       "8318              PRATIMA MONDAL   F   AITC  761202.0             SC   \n",
       "8461           Adhikari Dibyendu   M   AITC  724433.0        UNKNOWN   \n",
       "8560               S.S AHLUWALIA   M    BJP  598376.0        UNKNOWN   \n",
       "\n",
       "      Valid_Votes  ...  Last_Party_ID                  Last_Constituency_Name  \\\n",
       "144       1244570  ...         8615.0                                  GUNTUR   \n",
       "521       1283589  ...         1605.0         LAKHIMPUR , DISTRICT, LAKHIMPUR   \n",
       "732       1147274  ...        11002.0                                KHAGARIA   \n",
       "903       1225594  ...         1605.0                                  NAWADA   \n",
       "1262      1247650  ...         1605.0                               SARANGARH   \n",
       "1413       198983  ...         3482.0                    DADAR & NAGAR HAVELI   \n",
       "2151      1220571  ...         3482.0                                  KARNAL   \n",
       "2466      1106918  ...         8958.0                              HAZARIBAGH   \n",
       "2558       832377  ...         1605.0                              JAMSHEDPUR   \n",
       "3152      1065619  ...         5792.0                                 WAYANAD   \n",
       "3165      1092197  ...         3482.0                                  AMETHI   \n",
       "3201      1034618  ...         3952.0       MALAPPURAM , DISTRICT, MALAPPURAM   \n",
       "3249       990224  ...         3482.0                                  IDUKKI   \n",
       "3382      1137290  ...         1605.0                                 GWALIOR   \n",
       "4808      1247912  ...         1605.0                               SAMBALPUR   \n",
       "5118      1081727  ...         3482.0                                LUDHIANA   \n",
       "5210      1172033  ...        16994.0                                FARIDKOT   \n",
       "5323      1099598  ...         1605.0                                 BIKANER   \n",
       "5433      1062834  ...         1605.0                          SAWAI MADHOPUR   \n",
       "5599      1408189  ...         3482.0                                 TENKASI   \n",
       "5717      1406782  ...        10192.0                               THANJAVUR   \n",
       "5749      1178060  ...        10192.0                           SRIPERUMBUDUR   \n",
       "5871      1135540  ...         8488.0                             THIRUVALLUR   \n",
       "6103      1048062  ...         3482.0                          RAMANATHAPURAM   \n",
       "6892      1061645  ...         8284.0                            WARANGAL(SC)   \n",
       "7182      1145323  ...         1605.0                               FIROZABAD   \n",
       "7243      1081111  ...        16651.0                                MAINPURI   \n",
       "7285      1186589  ...         1605.0                               SULTANPUR   \n",
       "7352      1057558  ...         7425.0                                 MISRIKH   \n",
       "7461      1000316  ...         1605.0                                PILIBHIT   \n",
       "7496      1027815  ...         1605.0                                    AGRA   \n",
       "7632       889056  ...         3482.0                                 LUCKNOW   \n",
       "7761      1063390  ...         7425.0                               GORAKHPUR   \n",
       "7843      1029112  ...         7425.0                     FIROZABAD | KANNAUJ   \n",
       "7891       989732  ...         1605.0                                 BHADOHI   \n",
       "7939      1105627  ...         6306.0                                  BALLIA   \n",
       "8138      1277109  ...         1605.0                      BURDWAN - DURGAPUR   \n",
       "8318      1356102  ...        18228.0                                JOYNAGAR   \n",
       "8461      1446499  ...        18228.0  TAMLUK(GEN), DISTRICT, PURBA MEDINIPUR   \n",
       "8560      1433007  ...         1605.0                              DARJEELING   \n",
       "\n",
       "     Same_Constituency  Same_Party  No_Terms  Turncoat Incumbent  Recontest  \\\n",
       "144              False        True       2.0     False     False       True   \n",
       "521              False        True       2.0     False      True       True   \n",
       "732              False        True       4.0     False     False       True   \n",
       "903              False        True       2.0     False      True       True   \n",
       "1262             False        True       2.0     False     False      False   \n",
       "1413             False       False       7.0     False     False       True   \n",
       "2151             False       False       4.0      True     False       True   \n",
       "2466             False        True       1.0     False     False      False   \n",
       "2558             False        True       2.0     False     False      False   \n",
       "3152             False       False       4.0      True     False      False   \n",
       "3165             False        True       4.0     False      True       True   \n",
       "3201             False        True       2.0     False      True       True   \n",
       "3249             False        True       1.0     False     False      False   \n",
       "3382             False        True       3.0     False      True       True   \n",
       "4808             False        True       1.0     False     False       True   \n",
       "5118             False        True       2.0     False     False      False   \n",
       "5210             False        True       4.0     False     False      False   \n",
       "5323             False        True       3.0     False      True       True   \n",
       "5433             False        True       2.0     False     False      False   \n",
       "5599             False        True       1.0     False     False       True   \n",
       "5717             False        True       6.0     False     False       True   \n",
       "5749             False        True       4.0     False     False       True   \n",
       "5871             False       False       1.0      True     False       True   \n",
       "6103             False        True       2.0     False     False       True   \n",
       "6892             False        True       2.0     False      True       True   \n",
       "7182             False        True       4.0     False     False       True   \n",
       "7243             False       False       1.0      True     False      False   \n",
       "7285             False        True       3.0     False      True       True   \n",
       "7352             False       False       5.0      True     False       True   \n",
       "7461             False        True       8.0     False      True       True   \n",
       "7496             False        True       3.0     False      True       True   \n",
       "7632             False       False       1.0      True     False       True   \n",
       "7761             False       False       2.0      True      True       True   \n",
       "7843             False        True       5.0     False     False      False   \n",
       "7891             False        True       4.0     False      True       True   \n",
       "7939             False       False       2.0      True     False       True   \n",
       "8138             False        True       1.0     False     False       True   \n",
       "8318             False        True       2.0     False      True       True   \n",
       "8461             False        True       2.0     False      True       True   \n",
       "8560             False        True       2.0     False      True       True   \n",
       "\n",
       "           MyNeta_education                      TCPD_Prof_Main  \n",
       "144           Post Graduate                            Business  \n",
       "521               12th Pass                         Agriculture  \n",
       "732   Graduate Professional                  Retired or Pension  \n",
       "903                Graduate                         Social Work  \n",
       "1262  Graduate Professional                            Politics  \n",
       "1413               Graduate                            Politics  \n",
       "2151          Post Graduate                  Retired or Pension  \n",
       "2466               Graduate                            Politics  \n",
       "2558              12th Pass                            Politics  \n",
       "3152               Graduate                            Politics  \n",
       "3165          Post Graduate                            Politics  \n",
       "3201               Graduate                            Politics  \n",
       "3249               Graduate                         Social Work  \n",
       "3382               Graduate                         Social Work  \n",
       "4808          Post Graduate  Liberal Profession or Professional  \n",
       "5118  Graduate Professional  Liberal Profession or Professional  \n",
       "5210          Post Graduate                            Politics  \n",
       "5323          Post Graduate                            Business  \n",
       "5433          Post Graduate                            Business  \n",
       "5599              Doctorate                         Agriculture  \n",
       "5717               Graduate                         Social Work  \n",
       "5749              10th Pass                            Business  \n",
       "5871              Doctorate  Liberal Profession or Professional  \n",
       "6103          Post Graduate  Liberal Profession or Professional  \n",
       "6892               Graduate                            Business  \n",
       "7182              Doctorate                            Politics  \n",
       "7243  Graduate Professional                            Politics  \n",
       "7285          Post Graduate                            Business  \n",
       "7352               Graduate                            Business  \n",
       "7461              12th Pass                            Business  \n",
       "7496              Doctorate                           Education  \n",
       "7632              Doctorate                  Retired or Pension  \n",
       "7761  Graduate Professional                         Agriculture  \n",
       "7843  Graduate Professional                         Agriculture  \n",
       "7891               Graduate                         Agriculture  \n",
       "7939          Post Graduate                  Retired or Pension  \n",
       "8138          Post Graduate                         Social Work  \n",
       "8318          Post Graduate                            Politics  \n",
       "8461               Graduate                            Business  \n",
       "8560  Graduate Professional                   Former Government  \n",
       "\n",
       "[40 rows x 36 columns]"
      ]
     },
     "execution_count": 563,
     "metadata": {},
     "output_type": "execute_result"
    }
   ],
   "source": [
    "winner_data[winner_data['Same_Constituency'] == False]"
   ]
  },
  {
   "cell_type": "markdown",
   "id": "075b2c52",
   "metadata": {},
   "source": [
    "On a total of 40 seats, the public welcomed 'Outsiders'"
   ]
  },
  {
   "cell_type": "code",
   "execution_count": null,
   "id": "f1af7273",
   "metadata": {},
   "outputs": [],
   "source": []
  }
 ],
 "metadata": {
  "kernelspec": {
   "display_name": "Python 3 (ipykernel)",
   "language": "python",
   "name": "python3"
  },
  "language_info": {
   "codemirror_mode": {
    "name": "ipython",
    "version": 3
   },
   "file_extension": ".py",
   "mimetype": "text/x-python",
   "name": "python",
   "nbconvert_exporter": "python",
   "pygments_lexer": "ipython3",
   "version": "3.10.9"
  }
 },
 "nbformat": 4,
 "nbformat_minor": 5
}
